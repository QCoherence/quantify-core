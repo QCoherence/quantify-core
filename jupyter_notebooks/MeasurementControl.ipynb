{
 "cells": [
  {
   "cell_type": "markdown",
   "metadata": {},
   "source": [
    "# Tutorial 1. The Measurement Control \n",
    "\n",
    "This tutorial covers basic usage of quantify focusing on running basic experiments using `MeasurementControl`. \n",
    "The `MeasurementControl` is the main `Instrument` in charge of running any experiment. It takes care of saving the data in a standardized format as well as live plotting of the data during the experiment. \n",
    "`quantify` makes a distinction between `soft`(ware) controlled measurements and `hard`(ware) controlled measurements. \n",
    "\n",
    "In a `soft` measurement `MeasurementControl` is in charge of the measurement loop and consecutively sets and gets datapoints. A `soft` measurement can be 1D, 2D or higher dimensional and also supports adaptive measurements in which the datapoints are determined during the measurement loop. \n",
    "\n",
    "In a `hard` measurement the hardware (such as an AWG or a central controller) is in charge of the measurement loop. In this case, the datapoints to be acquired are determined before the experiment starts and are precompiled into the hardware which is then armed and starts acquisition. In a `hard` measurement `MeasurementControl` does not take care of the measurement loop but still takes care of the data storage and live plotting of the experiment. "
   ]
  },
  {
   "cell_type": "code",
   "execution_count": 1,
   "metadata": {},
   "outputs": [],
   "source": [
    "import numpy as np \n",
    "import xarray as xr \n",
    "import matplotlib.pyplot as plt \n",
    "from qcodes import ManualParameter, Parameter\n",
    "%matplotlib inline"
   ]
  },
  {
   "cell_type": "code",
   "execution_count": 2,
   "metadata": {},
   "outputs": [],
   "source": [
    "from quantify.measurement import MeasurementControl\n",
    "import quantify.visualization.pyqt_plotmon as pqm\n",
    "\n",
    "\n",
    "\n"
   ]
  },
  {
   "cell_type": "code",
   "execution_count": null,
   "metadata": {},
   "outputs": [],
   "source": []
  },
  {
   "cell_type": "code",
   "execution_count": 3,
   "metadata": {},
   "outputs": [],
   "source": [
    "MC = MeasurementControl('MC')\n",
    "plotmon = pqm.PlotMonitor_pyqt('plotmon')\n",
    "MC.instr_plotmon(plotmon.name)"
   ]
  },
  {
   "cell_type": "code",
   "execution_count": 4,
   "metadata": {},
   "outputs": [
    {
     "data": {
      "text/plain": [
       "'latest'"
      ]
     },
     "execution_count": 4,
     "metadata": {},
     "output_type": "execute_result"
    }
   ],
   "source": [
    "MC.instr_plotmon.get_instr().tuid()"
   ]
  },
  {
   "cell_type": "markdown",
   "metadata": {},
   "source": [
    "# Define a simple model "
   ]
  },
  {
   "cell_type": "code",
   "execution_count": 5,
   "metadata": {},
   "outputs": [],
   "source": [
    "from time import sleep"
   ]
  },
  {
   "cell_type": "code",
   "execution_count": 6,
   "metadata": {},
   "outputs": [],
   "source": [
    "\n",
    "def CosFunc(t, amplitude, frequency, phase, offset):\n",
    "    \"\"\"A simple cosine function\"\"\"\n",
    "    return amplitude * np.cos(2 * np.pi * frequency * t + phase) + offset\n",
    "\n",
    "# Parameters are created to emulate a system being measured \n",
    "amp = ManualParameter('amp', initial_value=1, unit='V', label='Amplitude')\n",
    "freq = ManualParameter('freq', initial_value=.5, unit='Hz', label='Frequency')\n",
    "t = ManualParameter('t', initial_value=1, unit='s', label='Time')\n",
    "phi = ManualParameter('phi', initial_value=0, unit='Rad', label='Phase')\n",
    "\n",
    "acq_delay = ManualParameter('acq_delay', initial_value=.1, unit='s')\n",
    "\n",
    "def cosine_model():\n",
    "    sleep(acq_delay())\n",
    "    return CosFunc(t(), amp(), freq(), phase=phi(), offset=0)\n",
    "\n",
    "# We wrap our function in a Parameter to be able to give \n",
    "sig = Parameter(name='sig', label='Signal level', unit='V', get_cmd=cosine_model)"
   ]
  },
  {
   "cell_type": "code",
   "execution_count": 7,
   "metadata": {},
   "outputs": [],
   "source": [
    "acq_delay(0.0)"
   ]
  },
  {
   "cell_type": "markdown",
   "metadata": {},
   "source": [
    "# A 1D soft(ware) controlled loop"
   ]
  },
  {
   "cell_type": "code",
   "execution_count": 8,
   "metadata": {},
   "outputs": [],
   "source": [
    "acq_delay(0.0) # we set this to a non-zero value to see the live plotting in action. "
   ]
  },
  {
   "cell_type": "code",
   "execution_count": 9,
   "metadata": {},
   "outputs": [
    {
     "name": "stdout",
     "output_type": "stream",
     "text": [
      " 100% completed \telapsed time: 0.4s \ttime left: 0.0s\n"
     ]
    }
   ],
   "source": [
    "MC.set_setpars(t)\n",
    "MC.set_setpoints(np.linspace(0, 5, 50))\n",
    "MC.set_getpars(sig)\n",
    "dset = MC.run('Cosine test')\n"
   ]
  },
  {
   "cell_type": "code",
   "execution_count": 10,
   "metadata": {},
   "outputs": [
    {
     "data": {
      "text/plain": [
       "{'tuid': '20200504-221748-47d6db', '2D-grid': False}"
      ]
     },
     "execution_count": 10,
     "metadata": {},
     "output_type": "execute_result"
    }
   ],
   "source": [
    "dset.attrs"
   ]
  },
  {
   "cell_type": "code",
   "execution_count": 11,
   "metadata": {},
   "outputs": [],
   "source": [
    "\n",
    "# By default the MC updates the datafile and live plot every 0.1 seconds to reduce overhead. \n",
    "# the total overhead is ~0.05s per update\n",
    "MC.update_interval(0.01) # Setting it even to 0.01 makes a dramatic difference, try it out!"
   ]
  },
  {
   "cell_type": "code",
   "execution_count": 12,
   "metadata": {},
   "outputs": [
    {
     "name": "stdout",
     "output_type": "stream",
     "text": [
      " 100% completed \telapsed time: 0.9s \ttime left: 0.0s\n"
     ]
    }
   ],
   "source": [
    "MC.set_setpars(t)\n",
    "MC.set_setpoints(np.linspace(0, 50, 1000))\n",
    "MC.set_getpars(sig)\n",
    "dset = MC.run('Cosine test')\n",
    "\n"
   ]
  },
  {
   "cell_type": "markdown",
   "metadata": {},
   "source": [
    "# A 2D soft(ware) controlled loop\n",
    "\n",
    "It is often desired to measure heatmaps (2D grids) of some parameter. \n",
    "This can be done by specifying two set parameters. \n",
    "The setpoints of the grid can be specified in two ways. "
   ]
  },
  {
   "cell_type": "markdown",
   "metadata": {},
   "source": [
    "## Method 1, a quick grid. "
   ]
  },
  {
   "cell_type": "code",
   "execution_count": 13,
   "metadata": {},
   "outputs": [],
   "source": [
    "MC.update_interval(.1)"
   ]
  },
  {
   "cell_type": "code",
   "execution_count": 14,
   "metadata": {},
   "outputs": [
    {
     "name": "stdout",
     "output_type": "stream",
     "text": [
      " 100% completed \telapsed time: 6.9s \ttime left: 0.0s6s\n"
     ]
    }
   ],
   "source": [
    "times = np.linspace(0, 5, 500)\n",
    "amps = np.linspace(-1, 1, 31)\n",
    "\n",
    "MC.set_setpars([t, amp])\n",
    "MC.set_setpoints(times)\n",
    "MC.set_setpoints_2D(amps)\n",
    "MC.set_getpars(sig)\n",
    "dset = MC.run('2D Cosine test')\n"
   ]
  },
  {
   "cell_type": "markdown",
   "metadata": {},
   "source": [
    "## Method 2, custom tuples in 2D \n",
    "\n",
    ".. note:: \n",
    "\n",
    "    it is also possible to do this for higher dimensional loops"
   ]
  },
  {
   "cell_type": "code",
   "execution_count": 15,
   "metadata": {},
   "outputs": [],
   "source": [
    "acq_delay(0.001)"
   ]
  },
  {
   "cell_type": "code",
   "execution_count": 16,
   "metadata": {},
   "outputs": [
    {
     "data": {
      "text/plain": [
       "0.1"
      ]
     },
     "execution_count": 16,
     "metadata": {},
     "output_type": "execute_result"
    }
   ],
   "source": [
    "MC.update_interval()"
   ]
  },
  {
   "cell_type": "code",
   "execution_count": 17,
   "metadata": {},
   "outputs": [],
   "source": [
    "r = np.linspace(0, 1.5, 2000)\n",
    "dt = np.linspace(0, 1, 2000)\n",
    "\n",
    "f = 10\n",
    "\n",
    "theta = np.cos(2*np.pi*f*dt)\n",
    "def polar_coords(r, theta):\n",
    "\n",
    "    x = r*np.cos(2*np.pi*theta)\n",
    "    y = r*np.sin(2*np.pi*theta)\n",
    "    return x, y \n",
    "\n",
    "x,y = polar_coords(r, theta)\n",
    "setpoints = np.column_stack([x,y])"
   ]
  },
  {
   "cell_type": "code",
   "execution_count": 18,
   "metadata": {},
   "outputs": [],
   "source": [
    "\n",
    "MC.instr_plotmon('plotmon')"
   ]
  },
  {
   "cell_type": "code",
   "execution_count": 19,
   "metadata": {},
   "outputs": [],
   "source": [
    "MC.update_interval(0.5)"
   ]
  },
  {
   "cell_type": "code",
   "execution_count": 40,
   "metadata": {},
   "outputs": [
    {
     "name": "stdout",
     "output_type": "stream",
     "text": [
      " 100% completed \telapsed time: 6.7s \ttime left: 0.0ss\n"
     ]
    }
   ],
   "source": [
    "\n",
    "MC.set_setpars([t, amp])\n",
    "MC.set_setpoints(setpoints)\n",
    "MC.set_getpars(sig)\n",
    "dset = MC.run('2D radial setpoints')\n"
   ]
  },
  {
   "cell_type": "markdown",
   "metadata": {},
   "source": [
    "# Below is for testing"
   ]
  },
  {
   "cell_type": "code",
   "execution_count": 39,
   "metadata": {},
   "outputs": [],
   "source": [
    "\n",
    "# This snippet exists to quickly reload and test the live plotting. \n",
    "plotmon.close()\n",
    "from importlib import reload\n",
    "reload(pqm)\n",
    "plotmon = pqm.PlotMonitor_pyqt('plotmon')"
   ]
  },
  {
   "cell_type": "code",
   "execution_count": null,
   "metadata": {},
   "outputs": [],
   "source": []
  }
 ],
 "metadata": {
  "kernelspec": {
   "display_name": "Python 3",
   "language": "python",
   "name": "python3"
  },
  "language_info": {
   "codemirror_mode": {
    "name": "ipython",
    "version": 3
   },
   "file_extension": ".py",
   "mimetype": "text/x-python",
   "name": "python",
   "nbconvert_exporter": "python",
   "pygments_lexer": "ipython3",
   "version": "3.7.5"
  }
 },
 "nbformat": 4,
 "nbformat_minor": 4
}
