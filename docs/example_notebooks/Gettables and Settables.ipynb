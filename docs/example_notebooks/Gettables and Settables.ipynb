{
 "cells": [
  {
   "cell_type": "markdown",
   "metadata": {},
   "source": [
    "# Gettable and Settable\n"
   ]
  },
  {
   "cell_type": "markdown",
   "metadata": {},
   "source": [
    "Parameters in Quantify must satisfy certain requirements as encapsulated by the Settable and Gettable classes, the specific interfaces of which are defined in the API Reference. \n",
    "\n",
    "The QCodes Parameter classes naturally fit the Settable and Gettable concepts; oftentimes these will be sufficient and can save development time in their reuse. In this tutorial, we will explore creating custom Gettables and Settables for more advanced experiments."
   ]
  },
  {
   "cell_type": "code",
   "execution_count": 1,
   "metadata": {},
   "outputs": [],
   "source": [
    "import numpy as np \n",
    "from quantify.measurement.types import Settable, Gettable"
   ]
  },
  {
   "cell_type": "markdown",
   "metadata": {},
   "source": [
    "## Required Attributes\n",
    "Let's say we want to sweep a sine wave. For this we define a pair of simple parameters fulfilling the required attributes.\n",
    "Note that the set() method accepts a single float value the get() method returns either a single float value or an array-like of float values."
   ]
  },
  {
   "cell_type": "code",
   "execution_count": 2,
   "metadata": {},
   "outputs": [],
   "source": [
    "class Sweep():\n",
    "    def __init__(self):\n",
    "        self.unit = 'Hz'\n",
    "        self.label = 'Frequency'\n",
    "        self.name = 'sweep'\n",
    "        self.current_val = None\n",
    "\n",
    "    def set(setpoint):\n",
    "        self.current_val = setpoint\n",
    "\n",
    "\n",
    "class SinWave():\n",
    "    def __init__(self, sweep):\n",
    "        self.unit = 'A'\n",
    "        self.label = 'Amplitude'\n",
    "        self.name = 'wave'\n",
    "        self.sweep = sweep\n",
    "\n",
    "    def get(self):\n",
    "        return sin(self.sweep.current_val)\n",
    "\n",
    "\n",
    "sweep_range = Settable(Sweep())\n",
    "sin_wave = Gettable(SinWave(sweep_range))"
   ]
  },
  {
   "cell_type": "code",
   "execution_count": 3,
   "metadata": {},
   "outputs": [
    {
     "data": {
      "text/plain": [
       "__main__.Sweep"
      ]
     },
     "execution_count": 3,
     "metadata": {},
     "output_type": "execute_result"
    }
   ],
   "source": [
    "# we can see sweep_range is still of type Sweep\n",
    "type(sweep_range)"
   ]
  },
  {
   "cell_type": "markdown",
   "metadata": {},
   "source": [
    "But what happens if our custom parameter is lacking a required attribute? Let's delete the `name` attribute and check:"
   ]
  },
  {
   "cell_type": "code",
   "execution_count": 4,
   "metadata": {},
   "outputs": [
    {
     "name": "stdout",
     "output_type": "stream",
     "text": [
      "<__main__.SinWave object at 0x7f84067b3af0> does not have 'name'\n"
     ]
    }
   ],
   "source": [
    "del sin_wave.name\n",
    "try:\n",
    "    Gettable(sin_wave)\n",
    "except Exception as e:\n",
    "    print(e)"
   ]
  },
  {
   "cell_type": "markdown",
   "metadata": {},
   "source": [
    "The Gettable throws an exception warning us what part of the interface is broken.\n",
    "\n",
    "## Control, Prepare and Finish\n",
    "The prepare() and finish() functions are useful for performing work before each iteration of the measurement loop and once after completion. For example, arming a piece of hardware with data and then closing a connection upon completion. "
   ]
  },
  {
   "cell_type": "code",
   "execution_count": 5,
   "metadata": {},
   "outputs": [],
   "source": [
    "def connect_to_device():\n",
    "    # connect to our hardware\n",
    "    pass\n",
    "\n",
    "\n",
    "class Hard(SinWave):\n",
    "    def __init__(self):\n",
    "        super().__init__(None)\n",
    "        self.soft = False\n",
    "        self.device = connect_to_device()\n",
    "\n",
    "    def prepare(setpoints):\n",
    "        self.device.arm(setpoints)\n",
    "\n",
    "    def finish():\n",
    "        self.device.close()\n",
    "\n",
    "    def get():\n",
    "        return self.device.run()\n",
    "\n",
    "\n",
    "hard_sin = Gettable(Hard())"
   ]
  }
 ],
 "metadata": {
  "kernelspec": {
   "display_name": "Python 3",
   "language": "python",
   "name": "python3"
  },
  "language_info": {
   "codemirror_mode": {
    "name": "ipython",
    "version": 3
   },
   "file_extension": ".py",
   "mimetype": "text/x-python",
   "name": "python",
   "nbconvert_exporter": "python",
   "pygments_lexer": "ipython3",
   "version": "3.8.0"
  }
 },
 "nbformat": 4,
 "nbformat_minor": 4
}
