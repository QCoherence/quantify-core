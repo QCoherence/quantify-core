{
 "cells": [
  {
   "cell_type": "markdown",
   "metadata": {},
   "source": [
    "# Tutorial 3 Programming a time-domain experiment using the sequencer"
   ]
  },
  {
   "cell_type": "markdown",
   "metadata": {},
   "source": [
    "### Creating the experiment using the quantify sequencer\n",
    "\n",
    "Warning! very preliminary"
   ]
  },
  {
   "cell_type": "code",
   "execution_count": 1,
   "metadata": {},
   "outputs": [],
   "source": [
    "import numpy as np \n",
    "from quantify.sequencer import Schedule"
   ]
  },
  {
   "cell_type": "code",
   "execution_count": null,
   "metadata": {},
   "outputs": [],
   "source": []
  },
  {
   "cell_type": "code",
   "execution_count": 2,
   "metadata": {},
   "outputs": [],
   "source": [
    "from quantify.sequencer.gate_library import Reset, Measure, CNOT, Rxy, X90"
   ]
  },
  {
   "cell_type": "code",
   "execution_count": 4,
   "metadata": {},
   "outputs": [],
   "source": [
    "# Create an empty schedule\n",
    "sched = Schedule('Bell experiment') \n",
    "\n",
    "# define the resources \n",
    "# q0, q1 = Qubits(n=2) # assumes all to all connectivity\n",
    "q0 , q1 = ('q0', 'q1')\n",
    "\n",
    "\n",
    "# Define the operations, these will be added to the circuit\n",
    "init_all = Reset(q0, q1) # instantiates\n",
    "x90_q0 = Rxy(theta=90, phi=0, qubit=q0)\n",
    "cnot = CNOT(qC=q0, qT= q1)\n",
    "Rxy_theta = Rxy(theta=23, phi=0, qubit=q0) # will be not be used in the experiment loop.\n",
    "meass_all = Measure(q0, q1)\n",
    "\n",
    "# we use a regular for loop as we have to unroll the changing theta variable here\n",
    "for theta in np.linspace(0, 360, 21):\n",
    "    sched.add(init_all)\n",
    "    sched.add(x90_q0)\n",
    "    sched.add(operation=CNOT(qC=q0, qT= q1))\n",
    "    sched.add(Rxy(theta=theta, phi=0, qubit=q0))\n",
    "    sched.add(Measure(q0, q1), label='M {:.2f} deg'.format(theta))\n",
    "    \n",
    "    "
   ]
  },
  {
   "cell_type": "markdown",
   "metadata": {},
   "source": [
    "## Creating the plot"
   ]
  },
  {
   "cell_type": "code",
   "execution_count": 10,
   "metadata": {},
   "outputs": [
    {
     "data": {
      "text/plain": [
       "dict_keys(['operation_dict', 'timing_constraints', 'name'])"
      ]
     },
     "execution_count": 10,
     "metadata": {},
     "output_type": "execute_result"
    }
   ],
   "source": [
    "sched.data"
   ]
  },
  {
   "cell_type": "code",
   "execution_count": 17,
   "metadata": {},
   "outputs": [],
   "source": [
    "from quantify.visualization.pulse_scheme import new_pulse_fig, new_pulse_subplot, mwPulse, meter"
   ]
  },
  {
   "cell_type": "code",
   "execution_count": 44,
   "metadata": {},
   "outputs": [],
   "source": [
    "k = list(sched.data['operation_dict'].keys())"
   ]
  },
  {
   "cell_type": "code",
   "execution_count": 46,
   "metadata": {},
   "outputs": [
    {
     "data": {
      "text/plain": [
       "{'gate_info': {'unitary': matrix([[1.+0.j, 0.+0.j],\n",
       "        [0.+0.j, 1.+0.j]]), 'tex': '$R_{xy}(0.0, 0.0)$', 'qubits': ['q0']}, 'pulse_info': {}, 'logic_info': {}, 'name': 'Rxy(0.00, 0.00) q0'}"
      ]
     },
     "execution_count": 46,
     "metadata": {},
     "output_type": "execute_result"
    }
   ],
   "source": [
    "sched.data['operation_dict'][k[3]]"
   ]
  },
  {
   "cell_type": "code",
   "execution_count": 79,
   "metadata": {},
   "outputs": [
    {
     "data": {
      "image/png": "[encoded data removed]",
      "text/plain": [
       "<Figure size 432x288 with 1 Axes>"
      ]
     },
     "metadata": {
      "needs_background": "light"
     },
     "output_type": "display_data"
    }
   ],
   "source": [
    "import matplotlib.pyplot as plt\n",
    "\n",
    "f, ax = new_pulse_fig(figsize=None)\n",
    "# f, ax=plt.subplots()\n",
    "ax.set_title(sched.data['name'])\n",
    "ax.set_aspect('equal')\n",
    "\n",
    "qubits = [0, 1]\n",
    "q0, q1 = qubits\n",
    "for q in qubits: \n",
    "    ax.axhline(q, color='.75')\n",
    "\n",
    "    meter(ax, 5, q0, fillcolor='white')\n",
    "    meter(ax, 5, q1, fillcolor='white')\n",
    "\n",
    "    ax.set_xlim(0, 10)\n",
    "    ax.set_ylim(-1, 2)\n",
    "\n",
    "    ax.plot([1,1], [0,1], marker='o', markersize=15)\n",
    "    ax.plot([1], [0], marker='+', color='white', markersize=10)\n",
    "    \n",
    "    \n"
   ]
  },
  {
   "cell_type": "code",
   "execution_count": 63,
   "metadata": {},
   "outputs": [
    {
     "data": {
      "text/plain": [
       "\u001b[0;31mSignature:\u001b[0m\n",
       "\u001b[0max\u001b[0m\u001b[0;34m.\u001b[0m\u001b[0mscatter\u001b[0m\u001b[0;34m(\u001b[0m\u001b[0;34m\u001b[0m\n",
       "\u001b[0;34m\u001b[0m    \u001b[0mx\u001b[0m\u001b[0;34m,\u001b[0m\u001b[0;34m\u001b[0m\n",
       "\u001b[0;34m\u001b[0m    \u001b[0my\u001b[0m\u001b[0;34m,\u001b[0m\u001b[0;34m\u001b[0m\n",
       "\u001b[0;34m\u001b[0m    \u001b[0ms\u001b[0m\u001b[0;34m=\u001b[0m\u001b[0;32mNone\u001b[0m\u001b[0;34m,\u001b[0m\u001b[0;34m\u001b[0m\n",
       "\u001b[0;34m\u001b[0m    \u001b[0mc\u001b[0m\u001b[0;34m=\u001b[0m\u001b[0;32mNone\u001b[0m\u001b[0;34m,\u001b[0m\u001b[0;34m\u001b[0m\n",
       "\u001b[0;34m\u001b[0m    \u001b[0mmarker\u001b[0m\u001b[0;34m=\u001b[0m\u001b[0;32mNone\u001b[0m\u001b[0;34m,\u001b[0m\u001b[0;34m\u001b[0m\n",
       "\u001b[0;34m\u001b[0m    \u001b[0mcmap\u001b[0m\u001b[0;34m=\u001b[0m\u001b[0;32mNone\u001b[0m\u001b[0;34m,\u001b[0m\u001b[0;34m\u001b[0m\n",
       "\u001b[0;34m\u001b[0m    \u001b[0mnorm\u001b[0m\u001b[0;34m=\u001b[0m\u001b[0;32mNone\u001b[0m\u001b[0;34m,\u001b[0m\u001b[0;34m\u001b[0m\n",
       "\u001b[0;34m\u001b[0m    \u001b[0mvmin\u001b[0m\u001b[0;34m=\u001b[0m\u001b[0;32mNone\u001b[0m\u001b[0;34m,\u001b[0m\u001b[0;34m\u001b[0m\n",
       "\u001b[0;34m\u001b[0m    \u001b[0mvmax\u001b[0m\u001b[0;34m=\u001b[0m\u001b[0;32mNone\u001b[0m\u001b[0;34m,\u001b[0m\u001b[0;34m\u001b[0m\n",
       "\u001b[0;34m\u001b[0m    \u001b[0malpha\u001b[0m\u001b[0;34m=\u001b[0m\u001b[0;32mNone\u001b[0m\u001b[0;34m,\u001b[0m\u001b[0;34m\u001b[0m\n",
       "\u001b[0;34m\u001b[0m    \u001b[0mlinewidths\u001b[0m\u001b[0;34m=\u001b[0m\u001b[0;32mNone\u001b[0m\u001b[0;34m,\u001b[0m\u001b[0;34m\u001b[0m\n",
       "\u001b[0;34m\u001b[0m    \u001b[0mverts\u001b[0m\u001b[0;34m=\u001b[0m\u001b[0;32mNone\u001b[0m\u001b[0;34m,\u001b[0m\u001b[0;34m\u001b[0m\n",
       "\u001b[0;34m\u001b[0m    \u001b[0medgecolors\u001b[0m\u001b[0;34m=\u001b[0m\u001b[0;32mNone\u001b[0m\u001b[0;34m,\u001b[0m\u001b[0;34m\u001b[0m\n",
       "\u001b[0;34m\u001b[0m    \u001b[0;34m*\u001b[0m\u001b[0;34m,\u001b[0m\u001b[0;34m\u001b[0m\n",
       "\u001b[0;34m\u001b[0m    \u001b[0mplotnonfinite\u001b[0m\u001b[0;34m=\u001b[0m\u001b[0;32mFalse\u001b[0m\u001b[0;34m,\u001b[0m\u001b[0;34m\u001b[0m\n",
       "\u001b[0;34m\u001b[0m    \u001b[0mdata\u001b[0m\u001b[0;34m=\u001b[0m\u001b[0;32mNone\u001b[0m\u001b[0;34m,\u001b[0m\u001b[0;34m\u001b[0m\n",
       "\u001b[0;34m\u001b[0m    \u001b[0;34m**\u001b[0m\u001b[0mkwargs\u001b[0m\u001b[0;34m,\u001b[0m\u001b[0;34m\u001b[0m\n",
       "\u001b[0;34m\u001b[0m\u001b[0;34m)\u001b[0m\u001b[0;34m\u001b[0m\u001b[0;34m\u001b[0m\u001b[0m\n",
       "\u001b[0;31mDocstring:\u001b[0m\n",
       "A scatter plot of *y* vs *x* with varying marker size and/or color.\n",
       "\n",
       "Parameters\n",
       "----------\n",
       "x, y : array_like, shape (n, )\n",
       "    The data positions.\n",
       "\n",
       "s : scalar or array_like, shape (n, ), optional\n",
       "    The marker size in points**2.\n",
       "    Default is ``rcParams['lines.markersize'] ** 2``.\n",
       "\n",
       "c : color, sequence, or sequence of color, optional\n",
       "    The marker color. Possible values:\n",
       "\n",
       "    - A single color format string.\n",
       "    - A sequence of color specifications of length n.\n",
       "    - A sequence of n numbers to be mapped to colors using *cmap* and\n",
       "      *norm*.\n",
       "    - A 2-D array in which the rows are RGB or RGBA.\n",
       "\n",
       "    Note that *c* should not be a single numeric RGB or RGBA sequence\n",
       "    because that is indistinguishable from an array of values to be\n",
       "    colormapped. If you want to specify the same RGB or RGBA value for\n",
       "    all points, use a 2-D array with a single row.  Otherwise, value-\n",
       "    matching will have precedence in case of a size matching with *x*\n",
       "    and *y*.\n",
       "\n",
       "    Defaults to ``None``. In that case the marker color is determined\n",
       "    by the value of ``color``, ``facecolor`` or ``facecolors``. In case\n",
       "    those are not specified or ``None``, the marker color is determined\n",
       "    by the next color of the ``Axes``' current \"shape and fill\" color\n",
       "    cycle. This cycle defaults to :rc:`axes.prop_cycle`.\n",
       "\n",
       "marker : `~matplotlib.markers.MarkerStyle`, optional\n",
       "    The marker style. *marker* can be either an instance of the class\n",
       "    or the text shorthand for a particular marker.\n",
       "    Defaults to ``None``, in which case it takes the value of\n",
       "    :rc:`scatter.marker` = 'o'.\n",
       "    See `~matplotlib.markers` for more information about marker styles.\n",
       "\n",
       "cmap : `~matplotlib.colors.Colormap`, optional, default: None\n",
       "    A `.Colormap` instance or registered colormap name. *cmap* is only\n",
       "    used if *c* is an array of floats. If ``None``, defaults to rc\n",
       "    ``image.cmap``.\n",
       "\n",
       "norm : `~matplotlib.colors.Normalize`, optional, default: None\n",
       "    A `.Normalize` instance is used to scale luminance data to 0, 1.\n",
       "    *norm* is only used if *c* is an array of floats. If *None*, use\n",
       "    the default `.colors.Normalize`.\n",
       "\n",
       "vmin, vmax : scalar, optional, default: None\n",
       "    *vmin* and *vmax* are used in conjunction with *norm* to normalize\n",
       "    luminance data. If None, the respective min and max of the color\n",
       "    array is used. *vmin* and *vmax* are ignored if you pass a *norm*\n",
       "    instance.\n",
       "\n",
       "alpha : scalar, optional, default: None\n",
       "    The alpha blending value, between 0 (transparent) and 1 (opaque).\n",
       "\n",
       "linewidths : scalar or array_like, optional, default: None\n",
       "    The linewidth of the marker edges. Note: The default *edgecolors*\n",
       "    is 'face'. You may want to change this as well.\n",
       "    If *None*, defaults to rcParams ``lines.linewidth``.\n",
       "\n",
       "edgecolors : {'face', 'none', *None*} or color or sequence of color, optional.\n",
       "    The edge color of the marker. Possible values:\n",
       "\n",
       "    - 'face': The edge color will always be the same as the face color.\n",
       "    - 'none': No patch boundary will be drawn.\n",
       "    - A Matplotlib color or sequence of color.\n",
       "\n",
       "    Defaults to ``None``, in which case it takes the value of\n",
       "    :rc:`scatter.edgecolors` = 'face'.\n",
       "\n",
       "    For non-filled markers, the *edgecolors* kwarg is ignored and\n",
       "    forced to 'face' internally.\n",
       "\n",
       "plotnonfinite : boolean, optional, default: False\n",
       "    Set to plot points with nonfinite *c*, in conjunction with\n",
       "    `~matplotlib.colors.Colormap.set_bad`.\n",
       "\n",
       "Returns\n",
       "-------\n",
       "paths : `~matplotlib.collections.PathCollection`\n",
       "\n",
       "Other Parameters\n",
       "----------------\n",
       "**kwargs : `~matplotlib.collections.Collection` properties\n",
       "\n",
       "See Also\n",
       "--------\n",
       "plot : To plot scatter plots when markers are identical in size and\n",
       "    color.\n",
       "\n",
       "Notes\n",
       "-----\n",
       "\n",
       "* The `.plot` function will be faster for scatterplots where markers\n",
       "  don't vary in size or color.\n",
       "\n",
       "* Any or all of *x*, *y*, *s*, and *c* may be masked arrays, in which\n",
       "  case all masks will be combined and only unmasked points will be\n",
       "  plotted.\n",
       "\n",
       "* Fundamentally, scatter works with 1-D arrays; *x*, *y*, *s*, and *c*\n",
       "  may be input as 2-D arrays, but within scatter they will be\n",
       "  flattened. The exception is *c*, which will be flattened only if its\n",
       "  size matches the size of *x* and *y*.\n",
       "\n",
       ".. note::\n",
       "    In addition to the above described arguments, this function can take a\n",
       "    **data** keyword argument. If such a **data** argument is given, the\n",
       "    following arguments are replaced by **data[<arg>]**:\n",
       "\n",
       "    * All arguments with the following names: 'c', 'color', 'edgecolors', 'facecolor', 'facecolors', 'linewidths', 's', 'x', 'y'.\n",
       "\n",
       "    Objects passed as **data** must support item access (``data[<arg>]``) and\n",
       "    membership test (``<arg> in data``).\n",
       "\u001b[0;31mFile:\u001b[0m      /usr/local/lib/python3.7/site-packages/matplotlib/axes/_axes.py\n",
       "\u001b[0;31mType:\u001b[0m      method\n"
      ]
     },
     "metadata": {},
     "output_type": "display_data"
    }
   ],
   "source": [
    "ax.scatter?"
   ]
  },
  {
   "cell_type": "code",
   "execution_count": null,
   "metadata": {},
   "outputs": [],
   "source": []
  },
  {
   "cell_type": "markdown",
   "metadata": {},
   "source": [
    "concept of resource: \n",
    "- add explicitly to the schedule \n",
    "- qubits (qudits) \n",
    "- classical registers \n",
    "- "
   ]
  }
 ],
 "metadata": {
  "kernelspec": {
   "display_name": "Python 3",
   "language": "python",
   "name": "python3"
  },
  "language_info": {
   "codemirror_mode": {
    "name": "ipython",
    "version": 3
   },
   "file_extension": ".py",
   "mimetype": "text/x-python",
   "name": "python",
   "nbconvert_exporter": "python",
   "pygments_lexer": "ipython3",
   "version": "3.7.5"
  }
 },
 "nbformat": 4,
 "nbformat_minor": 4
}
