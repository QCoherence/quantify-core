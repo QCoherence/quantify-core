{
 "cells": [
  {
   "cell_type": "markdown",
   "metadata": {},
   "source": [
    "# Tutorial 3 Programming a time-domain experiment using the sequencer"
   ]
  },
  {
   "cell_type": "markdown",
   "metadata": {},
   "source": [
    "## Example: Bell circuit and violations\n",
    "\n",
    "As the first example, we want to perform the [Bell experiment](https://en.wikipedia.org/wiki/Bell%27s_theorem). To this end, we want to create the Bell state $|\\Phi ^+\\rangle=\\frac{1}{2}(|00\\rangle+|11\\rangle)$ followed by a measurement. \n",
    "By the basis in one which one of the detectors measures, we can observe an oscillation which should result in a violation of Bell's inequality. \n",
    "\n",
    "The **goal of the experiment** is to observe this oscillation:\n",
    "![bell_oscillation](https://upload.wikimedia.org/wikipedia/commons/e/e2/Bell.svg)\n",
    "\n",
    "\n",
    "\n",
    "### Bell circuit\n",
    "Below is the QASM code used to perform this experiment in the [quantum inspire](https://www.quantum-inspire.com/). \n",
    "We will be creating this same experiment\n",
    "\n"
   ]
  },
  {
   "cell_type": "code",
   "execution_count": null,
   "metadata": {},
   "outputs": [],
   "source": [
    "version 1.0\n",
    "\n",
    "# Bell experiment\n",
    "\n",
    "qubits 2\n",
    "\n",
    ".Init\n",
    "prep_z q[0:1]\n",
    "\n",
    "\n",
    ".Entangle \n",
    "X90 q[0]\n",
    "cnot q[0],q[1]\n",
    "\n",
    ".Rotate\n",
    "# change the value to change the basis of the detector\n",
    "Rx q[0], 0.15 \n",
    "\n",
    ".Measurement\n",
    "Measure_all\n"
   ]
  },
  {
   "cell_type": "markdown",
   "metadata": {},
   "source": [
    "![Bell-circuit](bell_circuit_QI.png)"
   ]
  },
  {
   "cell_type": "markdown",
   "metadata": {},
   "source": [
    "### Creating the experiment using the quantify sequencer\n",
    "\n",
    "Warning! very preliminary"
   ]
  },
  {
   "cell_type": "code",
   "execution_count": 2,
   "metadata": {},
   "outputs": [
    {
     "data": {
      "text/plain": [
       "<module 'quantify.sequencer' from '/Users/adriaanrol/GitHubRepos/Professional/quantify/quantify/sequencer/__init__.py'>"
      ]
     },
     "execution_count": 2,
     "metadata": {},
     "output_type": "execute_result"
    }
   ],
   "source": [
    "from importlib import reload\n",
    "import quantify.sequencer.types\n",
    "import quantify.sequencer\n",
    "reload(quantify.sequencer.types)\n",
    "reload(quantify.sequencer)"
   ]
  },
  {
   "cell_type": "code",
   "execution_count": 3,
   "metadata": {},
   "outputs": [],
   "source": [
    "from collections import UserDict"
   ]
  },
  {
   "cell_type": "code",
   "execution_count": 29,
   "metadata": {},
   "outputs": [],
   "source": [
    "class Schedule(UserDict):\n",
    "    \n",
    "    def __init__(self, name: str, data: dict=None):\n",
    "        \"\"\"\n",
    "        A collection of :class:`Operation` objects and timing contraints\n",
    "        that define relations between the operations.\n",
    "        \n",
    "        Args: \n",
    "            name (str) : name of the schedule\n",
    "            data (dict): a dictionary containing a pre-existing schedule. \n",
    "        \n",
    "        The Schedule data structure is based on a dictionary. \n",
    "        This dictionary contains: \n",
    "        \n",
    "            operation_dict     :  a hash table containing the unique :class:`Operation` s added to the schedule. \n",
    "            timing_constraints : a list of all timing constraints added between operations. \n",
    "            \n",
    "\n",
    "        \"\"\"\n",
    "        \n",
    "        # valiate the input data to ensure it is valid schedule data \n",
    "        super().__init__() \n",
    "        \n",
    "        # ensure keys exist\n",
    "        self.data['operation_dict'] = {}\n",
    "        self.data['timing_constraints'] = {}\n",
    "        \n",
    "        if name is not None: \n",
    "            self.data['name'] = name\n",
    "        \n",
    "    def __repr__(self):\n",
    "        return 'Shedule containing ({}) {}  (unique) operations.'.format(\n",
    "            len(self.data['operation_dict']), len(self.data['timing_constraints']))\n",
    "    \n",
    "    @classmethod\n",
    "    def is_valid(cls, schedule)->bool:\n",
    "        # NOT IMPLEMENTED\n",
    "    \n",
    "        return True \n",
    "    \n",
    "    def add_operation(operation, time=0,\n",
    "                      ref_op='last', ref_pt='end', label='auto') -> str:\n",
    "        \"\"\"\n",
    "        \"\"\"\n",
    "        assert isinstance(operation, Operation)\n",
    "        \n",
    "        \n",
    "        \n",
    "        # \n",
    "        \n",
    "        \n",
    "        return label\n",
    "    \n",
    "    pass\n",
    "#     def __init__(self,name=''):\n",
    "#         self.name = name\n",
    "        \n",
    "        "
   ]
  },
  {
   "cell_type": "markdown",
   "metadata": {},
   "source": [
    "\n",
    "$$\\begin{equation*} \\mathsf {R}_{xy} \\left(\\theta, \\varphi \\right) = \\begin{bmatrix}\\textrm {cos}(\\theta /2) & -ie^{-i\\varphi }\\textrm {sin}(\\theta /2) \\\\ -ie^{i\\varphi }\\textrm {sin}(\\theta /2) & \\textrm {cos}(\\theta /2) \\end{bmatrix}. \\tag{6} \\end{equation*}$$\n"
   ]
  },
  {
   "cell_type": "code",
   "execution_count": null,
   "metadata": {},
   "outputs": [],
   "source": []
  },
  {
   "cell_type": "code",
   "execution_count": 6,
   "metadata": {},
   "outputs": [],
   "source": [
    "my_sch = Schedule(name='sch')"
   ]
  },
  {
   "cell_type": "code",
   "execution_count": 16,
   "metadata": {},
   "outputs": [],
   "source": [
    "import numpy as np \n"
   ]
  },
  {
   "cell_type": "code",
   "execution_count": 17,
   "metadata": {},
   "outputs": [],
   "source": [
    "theta = 30\n",
    "phi = 50"
   ]
  },
  {
   "cell_type": "code",
   "execution_count": 22,
   "metadata": {},
   "outputs": [],
   "source": [
    "unitary = np.array(\n",
    "            [            [np.cos(theta/2), 0],\n",
    "             [0, np.cos(theta/2)]])"
   ]
  },
  {
   "cell_type": "code",
   "execution_count": 28,
   "metadata": {},
   "outputs": [],
   "source": []
  },
  {
   "cell_type": "code",
   "execution_count": null,
   "metadata": {},
   "outputs": [],
   "source": []
  },
  {
   "cell_type": "code",
   "execution_count": 26,
   "metadata": {},
   "outputs": [
    {
     "data": {
      "text/plain": [
       "matrix([[-0.75968791+0.j        ,  0.17061918-0.62750567j],\n",
       "        [ 0.17061918-0.62750567j, -0.75968791+0.j        ]])"
      ]
     },
     "execution_count": 26,
     "metadata": {},
     "output_type": "execute_result"
    }
   ],
   "source": [
    "unitary"
   ]
  },
  {
   "cell_type": "code",
   "execution_count": 27,
   "metadata": {},
   "outputs": [
    {
     "ename": "TypeError",
     "evalue": "isinstance() arg 2 must be a type or tuple of types",
     "output_type": "error",
     "traceback": [
      "\u001b[0;31m---------------------------------------------------------------------------\u001b[0m",
      "\u001b[0;31mTypeError\u001b[0m                                 Traceback (most recent call last)",
      "\u001b[0;32m<ipython-input-27-2dbac5e52f3d>\u001b[0m in \u001b[0;36m<module>\u001b[0;34m\u001b[0m\n\u001b[0;32m----> 1\u001b[0;31m \u001b[0misinstance\u001b[0m\u001b[0;34m(\u001b[0m\u001b[0munitary\u001b[0m\u001b[0;34m,\u001b[0m \u001b[0mnp\u001b[0m\u001b[0;34m.\u001b[0m\u001b[0marray\u001b[0m\u001b[0;34m)\u001b[0m\u001b[0;34m\u001b[0m\u001b[0;34m\u001b[0m\u001b[0m\n\u001b[0m",
      "\u001b[0;31mTypeError\u001b[0m: isinstance() arg 2 must be a type or tuple of types"
     ]
    }
   ],
   "source": [
    "isinstance(unitary, np.array)"
   ]
  },
  {
   "cell_type": "code",
   "execution_count": null,
   "metadata": {},
   "outputs": [],
   "source": [
    "my_sch"
   ]
  },
  {
   "cell_type": "code",
   "execution_count": 7,
   "metadata": {},
   "outputs": [
    {
     "data": {
      "text/plain": [
       "Shedule containing (0) 0  (unique) operations."
      ]
     },
     "execution_count": 7,
     "metadata": {},
     "output_type": "execute_result"
    }
   ],
   "source": [
    "my_sch"
   ]
  },
  {
   "cell_type": "code",
   "execution_count": null,
   "metadata": {},
   "outputs": [],
   "source": []
  },
  {
   "cell_type": "code",
   "execution_count": 57,
   "metadata": {},
   "outputs": [],
   "source": [
    "import json"
   ]
  },
  {
   "cell_type": "code",
   "execution_count": 58,
   "metadata": {},
   "outputs": [
    {
     "data": {
      "text/plain": [
       "'{\"name\": \"sch\"}'"
      ]
     },
     "execution_count": 58,
     "metadata": {},
     "output_type": "execute_result"
    }
   ],
   "source": [
    "json.dumps(my_sch.data)"
   ]
  },
  {
   "cell_type": "code",
   "execution_count": 47,
   "metadata": {},
   "outputs": [
    {
     "data": {
      "text/plain": [
       "{'name': None}"
      ]
     },
     "execution_count": 47,
     "metadata": {},
     "output_type": "execute_result"
    }
   ],
   "source": [
    "my_sch"
   ]
  },
  {
   "cell_type": "code",
   "execution_count": 38,
   "metadata": {},
   "outputs": [
    {
     "data": {
      "text/plain": [
       "\u001b[0;31mInit signature:\u001b[0m \u001b[0mdict\u001b[0m\u001b[0;34m(\u001b[0m\u001b[0mself\u001b[0m\u001b[0;34m,\u001b[0m \u001b[0;34m/\u001b[0m\u001b[0;34m,\u001b[0m \u001b[0;34m*\u001b[0m\u001b[0margs\u001b[0m\u001b[0;34m,\u001b[0m \u001b[0;34m**\u001b[0m\u001b[0mkwargs\u001b[0m\u001b[0;34m)\u001b[0m\u001b[0;34m\u001b[0m\u001b[0;34m\u001b[0m\u001b[0m\n",
       "\u001b[0;31mDocstring:\u001b[0m     \n",
       "dict() -> new empty dictionary\n",
       "dict(mapping) -> new dictionary initialized from a mapping object's\n",
       "    (key, value) pairs\n",
       "dict(iterable) -> new dictionary initialized as if via:\n",
       "    d = {}\n",
       "    for k, v in iterable:\n",
       "        d[k] = v\n",
       "dict(**kwargs) -> new dictionary initialized with the name=value pairs\n",
       "    in the keyword argument list.  For example:  dict(one=1, two=2)\n",
       "\u001b[0;31mType:\u001b[0m           type\n",
       "\u001b[0;31mSubclasses:\u001b[0m     OrderedDict, defaultdict, Counter, _EnumDict, Bunch, Config, Struct, ColorSchemeTable, FastDictCache, _CharSizesCache, ...\n"
      ]
     },
     "metadata": {},
     "output_type": "display_data"
    }
   ],
   "source": [
    "dict??"
   ]
  },
  {
   "cell_type": "code",
   "execution_count": 37,
   "metadata": {},
   "outputs": [
    {
     "data": {
      "text/plain": [
       "\u001b[0;31mType:\u001b[0m            Schedule\n",
       "\u001b[0;31mString form:\u001b[0m     {'5': 5}\n",
       "\u001b[0;31mLength:\u001b[0m          1\n",
       "\u001b[0;31mDocstring:\u001b[0m       <no docstring>\n",
       "\u001b[0;31mClass docstring:\u001b[0m\n",
       "dict() -> new empty dictionary\n",
       "dict(mapping) -> new dictionary initialized from a mapping object's\n",
       "    (key, value) pairs\n",
       "dict(iterable) -> new dictionary initialized as if via:\n",
       "    d = {}\n",
       "    for k, v in iterable:\n",
       "        d[k] = v\n",
       "dict(**kwargs) -> new dictionary initialized with the name=value pairs\n",
       "    in the keyword argument list.  For example:  dict(one=1, two=2)\n"
      ]
     },
     "metadata": {},
     "output_type": "display_data"
    }
   ],
   "source": [
    "my_sch??"
   ]
  },
  {
   "cell_type": "code",
   "execution_count": 35,
   "metadata": {},
   "outputs": [
    {
     "data": {
      "text/plain": [
       "True"
      ]
     },
     "execution_count": 35,
     "metadata": {},
     "output_type": "execute_result"
    }
   ],
   "source": [
    "isinstance(my_sch, dict)"
   ]
  },
  {
   "cell_type": "code",
   "execution_count": 27,
   "metadata": {},
   "outputs": [
    {
     "data": {
      "text/plain": [
       "{'5': 5}"
      ]
     },
     "execution_count": 27,
     "metadata": {},
     "output_type": "execute_result"
    }
   ],
   "source": [
    "my_sch.data"
   ]
  },
  {
   "cell_type": "code",
   "execution_count": 6,
   "metadata": {},
   "outputs": [],
   "source": [
    "from quantify.sequencer import Schedule, Operation"
   ]
  },
  {
   "cell_type": "code",
   "execution_count": 30,
   "metadata": {},
   "outputs": [],
   "source": [
    "my_dict ={'a':5, 'b':20}"
   ]
  },
  {
   "cell_type": "code",
   "execution_count": 31,
   "metadata": {},
   "outputs": [],
   "source": [
    "other_dict = {'a':10}"
   ]
  },
  {
   "cell_type": "code",
   "execution_count": 33,
   "metadata": {},
   "outputs": [],
   "source": [
    "my_dict.update(other_dict)"
   ]
  },
  {
   "cell_type": "code",
   "execution_count": 34,
   "metadata": {},
   "outputs": [
    {
     "data": {
      "text/plain": [
       "{'a': 10, 'b': 20}"
      ]
     },
     "execution_count": 34,
     "metadata": {},
     "output_type": "execute_result"
    }
   ],
   "source": [
    "my_dict"
   ]
  },
  {
   "cell_type": "code",
   "execution_count": 22,
   "metadata": {},
   "outputs": [
    {
     "ename": "SyntaxError",
     "evalue": "positional argument follows keyword argument (<ipython-input-22-a22f4aa6b9b7>, line 21)",
     "output_type": "error",
     "traceback": [
      "\u001b[0;36m  File \u001b[0;32m\"<ipython-input-22-a22f4aa6b9b7>\"\u001b[0;36m, line \u001b[0;32m21\u001b[0m\n\u001b[0;31m    sched_b.add_operation(Rxy(theta=theta, phi=0, q0))\u001b[0m\n\u001b[0m                                                 ^\u001b[0m\n\u001b[0;31mSyntaxError\u001b[0m\u001b[0;31m:\u001b[0m positional argument follows keyword argument\n"
     ]
    }
   ],
   "source": [
    "# Create an empty schedule\n",
    "sched_b = Schedule('Bell experiment') \n",
    "\n",
    "# define the resources \n",
    "q0, q1 = Qubits(n=2) # assumes all to all connectivity\n",
    "\n",
    "# Define the operations, these will be added to the circuit\n",
    "init_all = Reset(q0, q1) # instantiates \n",
    "x90_0 = Rxy(theta=90, phi=0, qubit=q0)  # x90 operation on q0 \n",
    "cnot = CNOT(qC=q0, qT= q1) \n",
    "# xtheta = Rxy(theta=th_1, phi=0, qubit=q0) # commented out as we add this in the experiment loop. \n",
    "meass_all = Measure(q0, q1) \n",
    "\n",
    "\n",
    "for theta in np.linspace(0, 360, 21): \n",
    "    \n",
    "    sched_b.add_operation(init_all)\n",
    "    sched_b.add_operation(X90_0)\n",
    "    sched_b.add_operation(operation=CNOT(qC=q0, qT= q1))\n",
    "    \n",
    "    sched_b.add_operation(Rxy(theta=theta, phi=0, q0))\n",
    "    sched_b.add_operation(operation=Measure(q0, q1), label='M {:.2f} deg'.format(theta)) \n",
    "    \n",
    "    \n"
   ]
  },
  {
   "cell_type": "code",
   "execution_count": 10,
   "metadata": {},
   "outputs": [
    {
     "data": {
      "text/plain": [
       "<quantify.sequencer.types.Schedule at 0x123323e50>"
      ]
     },
     "execution_count": 10,
     "metadata": {},
     "output_type": "execute_result"
    }
   ],
   "source": [
    "bell_exp"
   ]
  },
  {
   "cell_type": "code",
   "execution_count": null,
   "metadata": {},
   "outputs": [],
   "source": [
    "Rxy ="
   ]
  },
  {
   "cell_type": "code",
   "execution_count": null,
   "metadata": {},
   "outputs": [],
   "source": [
    "sch = "
   ]
  },
  {
   "cell_type": "code",
   "execution_count": null,
   "metadata": {},
   "outputs": [],
   "source": []
  }
 ],
 "metadata": {
  "kernelspec": {
   "display_name": "Python 3",
   "language": "python",
   "name": "python3"
  },
  "language_info": {
   "codemirror_mode": {
    "name": "ipython",
    "version": 3
   },
   "file_extension": ".py",
   "mimetype": "text/x-python",
   "name": "python",
   "nbconvert_exporter": "python",
   "pygments_lexer": "ipython3",
   "version": "3.7.5"
  }
 },
 "nbformat": 4,
 "nbformat_minor": 4
}
