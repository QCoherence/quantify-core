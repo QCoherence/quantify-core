{
 "cells": [
  {
   "cell_type": "markdown",
   "metadata": {},
   "source": [
    "# Tutorial 3 Programming a time-domain experiment using the sequencer"
   ]
  },
  {
   "cell_type": "markdown",
   "metadata": {},
   "source": [
    "### Creating the experiment using the quantify sequencer\n",
    "\n",
    "Warning! very preliminary"
   ]
  },
  {
   "cell_type": "code",
   "execution_count": 1,
   "metadata": {},
   "outputs": [],
   "source": [
    "import numpy as np \n"
   ]
  },
  {
   "cell_type": "code",
   "execution_count": 2,
   "metadata": {},
   "outputs": [],
   "source": [
    "from importlib import reload\n",
    "import quantify.sequencer.types\n",
    "import quantify.sequencer\n",
    "\n",
    "from quantify.sequencer.types import Schedule"
   ]
  },
  {
   "cell_type": "code",
   "execution_count": 3,
   "metadata": {},
   "outputs": [],
   "source": [
    "from quantify.sequencer.gate_library import Reset, Measure, CNOT, Rxy, X90"
   ]
  },
  {
   "cell_type": "code",
   "execution_count": 4,
   "metadata": {},
   "outputs": [],
   "source": [
    "# Create an empty schedule\n",
    "sched = Schedule('Bell experiment') \n",
    "\n",
    "# define the resources \n",
    "# q0, q1 = Qubits(n=2) # assumes all to all connectivity\n",
    "q0 , q1 = ('q0', 'q1')\n",
    "\n",
    "# Define the operations, these will be added to the circuit\n",
    "init_all = Reset(q0, q1) # instantiates \n",
    "x90_q0 = Rxy(theta=90, phi=0, qubit=q0)  # x90 operation on q0 \n",
    "cnot = CNOT(qC=q0, qT= q1) \n",
    "# xtheta = Rxy(theta=th_1, phi=0, qubit=q0) # commented out as we add this in the experiment loop. \n",
    "meass_all = Measure(q0, q1) \n",
    "\n",
    "\n",
    "\n",
    "# we use a regular for loop as we have to unroll the changing theta variable here \n",
    "for theta in np.linspace(0, 360, 21): \n",
    "    sched.add(init_all)\n",
    "    sched.add(x90_q0)\n",
    "    sched.add(operation=CNOT(qC=q0, qT= q1))\n",
    "    sched.add(Rxy(theta=theta, phi=0, qubit=q0))\n",
    "    sched.add(operation=Measure(q0, q1), label='M {:.2f} deg'.format(theta)) \n",
    "    \n",
    "    \n"
   ]
  },
  {
   "cell_type": "code",
   "execution_count": 13,
   "metadata": {},
   "outputs": [
    {
     "data": {
      "text/plain": [
       "array([  0.,  18.,  36.,  54.,  72.,  90., 108., 126., 144., 162., 180.,\n",
       "       198., 216., 234., 252., 270., 288., 306., 324., 342., 360.])"
      ]
     },
     "execution_count": 13,
     "metadata": {},
     "output_type": "execute_result"
    }
   ],
   "source": [
    "np.linspace(0, 360,21)"
   ]
  },
  {
   "cell_type": "code",
   "execution_count": 5,
   "metadata": {},
   "outputs": [],
   "source": [
    "arr = np.array([[0,1],[24,3]])"
   ]
  },
  {
   "cell_type": "code",
   "execution_count": 6,
   "metadata": {},
   "outputs": [
    {
     "data": {
      "text/plain": [
       "24"
      ]
     },
     "execution_count": 6,
     "metadata": {},
     "output_type": "execute_result"
    }
   ],
   "source": [
    "len(sched.data['operation_dict'].keys())"
   ]
  },
  {
   "cell_type": "code",
   "execution_count": 8,
   "metadata": {},
   "outputs": [
    {
     "data": {
      "text/plain": [
       "105"
      ]
     },
     "execution_count": 8,
     "metadata": {},
     "output_type": "execute_result"
    }
   ],
   "source": [
    "len(sched.data['timing_constraints'])"
   ]
  },
  {
   "cell_type": "code",
   "execution_count": 10,
   "metadata": {},
   "outputs": [
    {
     "data": {
      "text/plain": [
       "Schedule \"Bell experiment\" containing (24) 105  (unique) operations."
      ]
     },
     "execution_count": 10,
     "metadata": {},
     "output_type": "execute_result"
    }
   ],
   "source": [
    "sched"
   ]
  },
  {
   "cell_type": "code",
   "execution_count": 12,
   "metadata": {},
   "outputs": [
    {
     "data": {
      "text/plain": [
       "{-6171019965652596828: {'gate_info': {}, 'pulse_info': {}, 'logic_info': {}, 'name': \"Reset ('q0', 'q1')\"},\n",
       " -8190481036054707189: {'gate_info': {'unitary': matrix([[0.70710678+0.j        , 0.        -0.70710678j],\n",
       "         [0.        -0.70710678j, 0.70710678+0.j        ]]), 'tex': '$R_{xy}(90.0, 0.0)$', 'qubits': ['q0']}, 'pulse_info': {}, 'logic_info': {}, 'name': 'Rxy(90.00, 0.00) q0'},\n",
       " -7130061432078135099: {'gate_info': {}, 'pulse_info': {}, 'logic_info': {}, 'name': 'CNOT (q0, q1)'},\n",
       " 5645879027687151038: {'gate_info': {'unitary': matrix([[1.+0.j, 0.+0.j],\n",
       "         [0.+0.j, 1.+0.j]]), 'tex': '$R_{xy}(0.0, 0.0)$', 'qubits': ['q0']}, 'pulse_info': {}, 'logic_info': {}, 'name': 'Rxy(0.00, 0.00) q0'},\n",
       " 6326947946749565525: {'gate_info': {}, 'pulse_info': {}, 'logic_info': {}, 'name': \"Measure ('q0', 'q1')\"},\n",
       " 1341227584548176779: {'gate_info': {'unitary': matrix([[0.98768834+0.j        , 0.        -0.15643447j],\n",
       "         [0.        -0.15643447j, 0.98768834+0.j        ]]), 'tex': '$R_{xy}(18.0, 0.0)$', 'qubits': ['q0']}, 'pulse_info': {}, 'logic_info': {}, 'name': 'Rxy(18.00, 0.00) q0'},\n",
       " -981104547798894829: {'gate_info': {'unitary': matrix([[0.95105652+0.j        , 0.        -0.30901699j],\n",
       "         [0.        -0.30901699j, 0.95105652+0.j        ]]), 'tex': '$R_{xy}(36.0, 0.0)$', 'qubits': ['q0']}, 'pulse_info': {}, 'logic_info': {}, 'name': 'Rxy(36.00, 0.00) q0'},\n",
       " 4947971810917783439: {'gate_info': {'unitary': matrix([[0.89100652+0.j       , 0.        -0.4539905j],\n",
       "         [0.        -0.4539905j, 0.89100652+0.j       ]]), 'tex': '$R_{xy}(54.0, 0.0)$', 'qubits': ['q0']}, 'pulse_info': {}, 'logic_info': {}, 'name': 'Rxy(54.00, 0.00) q0'},\n",
       " 4020082571118609019: {'gate_info': {'unitary': matrix([[0.80901699+0.j        , 0.        -0.58778525j],\n",
       "         [0.        -0.58778525j, 0.80901699+0.j        ]]), 'tex': '$R_{xy}(72.0, 0.0)$', 'qubits': ['q0']}, 'pulse_info': {}, 'logic_info': {}, 'name': 'Rxy(72.00, 0.00) q0'},\n",
       " -2178500384992812213: {'gate_info': {'unitary': matrix([[0.58778525+0.j        , 0.        -0.80901699j],\n",
       "         [0.        -0.80901699j, 0.58778525+0.j        ]]), 'tex': '$R_{xy}(108.0, 0.0)$', 'qubits': ['q0']}, 'pulse_info': {}, 'logic_info': {}, 'name': 'Rxy(108.00, 0.00) q0'},\n",
       " -3189803695341306897: {'gate_info': {'unitary': matrix([[0.4539905+0.j        , 0.       -0.89100652j],\n",
       "         [0.       -0.89100652j, 0.4539905+0.j        ]]), 'tex': '$R_{xy}(126.0, 0.0)$', 'qubits': ['q0']}, 'pulse_info': {}, 'logic_info': {}, 'name': 'Rxy(126.00, 0.00) q0'},\n",
       " 3120424887966674755: {'gate_info': {'unitary': matrix([[0.30901699+0.j        , 0.        -0.95105652j],\n",
       "         [0.        -0.95105652j, 0.30901699+0.j        ]]), 'tex': '$R_{xy}(144.0, 0.0)$', 'qubits': ['q0']}, 'pulse_info': {}, 'logic_info': {}, 'name': 'Rxy(144.00, 0.00) q0'},\n",
       " 7667249436485907012: {'gate_info': {'unitary': matrix([[0.15643447+0.j        , 0.        -0.98768834j],\n",
       "         [0.        -0.98768834j, 0.15643447+0.j        ]]), 'tex': '$R_{xy}(162.0, 0.0)$', 'qubits': ['q0']}, 'pulse_info': {}, 'logic_info': {}, 'name': 'Rxy(162.00, 0.00) q0'},\n",
       " -1344969399733544764: {'gate_info': {'unitary': matrix([[6.123234e-17+0.j, 0.000000e+00-1.j],\n",
       "         [0.000000e+00-1.j, 6.123234e-17+0.j]]), 'tex': '$R_{xy}(180.0, 0.0)$', 'qubits': ['q0']}, 'pulse_info': {}, 'logic_info': {}, 'name': 'Rxy(180.00, 0.00) q0'},\n",
       " -8790137813156945728: {'gate_info': {'unitary': matrix([[-0.15643447+0.j        ,  0.        -0.98768834j],\n",
       "         [ 0.        -0.98768834j, -0.15643447+0.j        ]]), 'tex': '$R_{xy}(198.0, 0.0)$', 'qubits': ['q0']}, 'pulse_info': {}, 'logic_info': {}, 'name': 'Rxy(198.00, 0.00) q0'},\n",
       " 560422044001533497: {'gate_info': {'unitary': matrix([[-0.30901699+0.j        ,  0.        -0.95105652j],\n",
       "         [ 0.        -0.95105652j, -0.30901699+0.j        ]]), 'tex': '$R_{xy}(216.0, 0.0)$', 'qubits': ['q0']}, 'pulse_info': {}, 'logic_info': {}, 'name': 'Rxy(216.00, 0.00) q0'},\n",
       " 3941164554666741058: {'gate_info': {'unitary': matrix([[-0.4539905+0.j        ,  0.       -0.89100652j],\n",
       "         [ 0.       -0.89100652j, -0.4539905+0.j        ]]), 'tex': '$R_{xy}(234.0, 0.0)$', 'qubits': ['q0']}, 'pulse_info': {}, 'logic_info': {}, 'name': 'Rxy(234.00, 0.00) q0'},\n",
       " 1650002804932766659: {'gate_info': {'unitary': matrix([[-0.58778525+0.j        ,  0.        -0.80901699j],\n",
       "         [ 0.        -0.80901699j, -0.58778525+0.j        ]]), 'tex': '$R_{xy}(252.0, 0.0)$', 'qubits': ['q0']}, 'pulse_info': {}, 'logic_info': {}, 'name': 'Rxy(252.00, 0.00) q0'},\n",
       " -3986072023759553913: {'gate_info': {'unitary': matrix([[-0.70710678+0.j        ,  0.        -0.70710678j],\n",
       "         [ 0.        -0.70710678j, -0.70710678+0.j        ]]), 'tex': '$R_{xy}(270.0, 0.0)$', 'qubits': ['q0']}, 'pulse_info': {}, 'logic_info': {}, 'name': 'Rxy(270.00, 0.00) q0'},\n",
       " 1091607833491915392: {'gate_info': {'unitary': matrix([[-0.80901699+0.j        ,  0.        -0.58778525j],\n",
       "         [ 0.        -0.58778525j, -0.80901699+0.j        ]]), 'tex': '$R_{xy}(288.0, 0.0)$', 'qubits': ['q0']}, 'pulse_info': {}, 'logic_info': {}, 'name': 'Rxy(288.00, 0.00) q0'},\n",
       " 2370355430218784891: {'gate_info': {'unitary': matrix([[-0.89100652+0.j       ,  0.        -0.4539905j],\n",
       "         [ 0.        -0.4539905j, -0.89100652+0.j       ]]), 'tex': '$R_{xy}(306.0, 0.0)$', 'qubits': ['q0']}, 'pulse_info': {}, 'logic_info': {}, 'name': 'Rxy(306.00, 0.00) q0'},\n",
       " -3565436072996606348: {'gate_info': {'unitary': matrix([[-0.95105652+0.j        ,  0.        -0.30901699j],\n",
       "         [ 0.        -0.30901699j, -0.95105652+0.j        ]]), 'tex': '$R_{xy}(324.0, 0.0)$', 'qubits': ['q0']}, 'pulse_info': {}, 'logic_info': {}, 'name': 'Rxy(324.00, 0.00) q0'},\n",
       " -6020118028501158465: {'gate_info': {'unitary': matrix([[-0.98768834+0.j        ,  0.        -0.15643447j],\n",
       "         [ 0.        -0.15643447j, -0.98768834+0.j        ]]), 'tex': '$R_{xy}(342.0, 0.0)$', 'qubits': ['q0']}, 'pulse_info': {}, 'logic_info': {}, 'name': 'Rxy(342.00, 0.00) q0'},\n",
       " -8253494061109973940: {'gate_info': {'unitary': matrix([[-1.+0.0000000e+00j,  0.-1.2246468e-16j],\n",
       "         [ 0.-1.2246468e-16j, -1.+0.0000000e+00j]]), 'tex': '$R_{xy}(360.0, 0.0)$', 'qubits': ['q0']}, 'pulse_info': {}, 'logic_info': {}, 'name': 'Rxy(360.00, 0.00) q0'}}"
      ]
     },
     "execution_count": 12,
     "metadata": {},
     "output_type": "execute_result"
    }
   ],
   "source": [
    "sched.data['operation_dict']"
   ]
  },
  {
   "cell_type": "code",
   "execution_count": null,
   "metadata": {},
   "outputs": [],
   "source": []
  },
  {
   "cell_type": "code",
   "execution_count": 7,
   "metadata": {},
   "outputs": [
    {
     "data": {
      "text/plain": [
       "\u001b[0;31mSignature:\u001b[0m\n",
       "\u001b[0msched_b\u001b[0m\u001b[0;34m.\u001b[0m\u001b[0madd_operation\u001b[0m\u001b[0;34m(\u001b[0m\u001b[0;34m\u001b[0m\n",
       "\u001b[0;34m\u001b[0m    \u001b[0moperation\u001b[0m\u001b[0;34m,\u001b[0m\u001b[0;34m\u001b[0m\n",
       "\u001b[0;34m\u001b[0m    \u001b[0mtime\u001b[0m\u001b[0;34m:\u001b[0m \u001b[0mfloat\u001b[0m \u001b[0;34m=\u001b[0m \u001b[0;36m0\u001b[0m\u001b[0;34m,\u001b[0m\u001b[0;34m\u001b[0m\n",
       "\u001b[0;34m\u001b[0m    \u001b[0mref_op\u001b[0m\u001b[0;34m:\u001b[0m \u001b[0mstr\u001b[0m \u001b[0;34m=\u001b[0m \u001b[0;34m'last'\u001b[0m\u001b[0;34m,\u001b[0m\u001b[0;34m\u001b[0m\n",
       "\u001b[0;34m\u001b[0m    \u001b[0mref_pt\u001b[0m\u001b[0;34m:\u001b[0m \u001b[0mstr\u001b[0m \u001b[0;34m=\u001b[0m \u001b[0;34m'end'\u001b[0m\u001b[0;34m,\u001b[0m\u001b[0;34m\u001b[0m\n",
       "\u001b[0;34m\u001b[0m    \u001b[0mlabel\u001b[0m\u001b[0;34m:\u001b[0m \u001b[0mstr\u001b[0m \u001b[0;34m=\u001b[0m \u001b[0;34m'auto'\u001b[0m\u001b[0;34m,\u001b[0m\u001b[0;34m\u001b[0m\n",
       "\u001b[0;34m\u001b[0m\u001b[0;34m)\u001b[0m \u001b[0;34m->\u001b[0m \u001b[0mstr\u001b[0m\u001b[0;34m\u001b[0m\u001b[0;34m\u001b[0m\u001b[0m\n",
       "\u001b[0;31mDocstring:\u001b[0m\n",
       "Add an Operation to the schedule and specify timing constraints.\n",
       "\n",
       "Args:\n",
       "    operation (:class:`Operation`): The operation to add to the schedule\n",
       "    time (float) : time between the the reference operation and added operation.\n",
       "    ref_op (str) : specifies the reference operation.\n",
       "    ref_op (str) : specifies the point of the ref_op to use as reference can be {'start', 'center', 'end'}\n",
       "    label  (str) : a label that can be used as an identifier when adding more operations.\n",
       "\n",
       "Returns:\n",
       "    label (str): returns the unique identifier of the last added operation.\n",
       "\u001b[0;31mFile:\u001b[0m      ~/GitHubRepos/Professional/quantify/quantify/sequencer/types.py\n",
       "\u001b[0;31mType:\u001b[0m      method\n"
      ]
     },
     "metadata": {},
     "output_type": "display_data"
    }
   ],
   "source": [
    "sched_b.add_operation"
   ]
  },
  {
   "cell_type": "code",
   "execution_count": 7,
   "metadata": {},
   "outputs": [
    {
     "data": {
      "text/plain": [
       "quantify.sequencer.gate_library.Reset"
      ]
     },
     "execution_count": 7,
     "metadata": {},
     "output_type": "execute_result"
    }
   ],
   "source": [
    "type(init_all)"
   ]
  },
  {
   "cell_type": "code",
   "execution_count": 8,
   "metadata": {},
   "outputs": [],
   "source": [
    "from quantify.sequencer.types import Operation"
   ]
  },
  {
   "cell_type": "code",
   "execution_count": 9,
   "metadata": {},
   "outputs": [
    {
     "data": {
      "text/plain": [
       "quantify.sequencer.types.Operation"
      ]
     },
     "execution_count": 9,
     "metadata": {},
     "output_type": "execute_result"
    }
   ],
   "source": [
    "Operation"
   ]
  },
  {
   "cell_type": "code",
   "execution_count": 10,
   "metadata": {},
   "outputs": [
    {
     "data": {
      "text/plain": [
       "True"
      ]
     },
     "execution_count": 10,
     "metadata": {},
     "output_type": "execute_result"
    }
   ],
   "source": [
    "isinstance(init_all, Operation)"
   ]
  },
  {
   "cell_type": "code",
   "execution_count": 10,
   "metadata": {},
   "outputs": [
    {
     "data": {
      "text/plain": [
       "<quantify.sequencer.types.Schedule at 0x123323e50>"
      ]
     },
     "execution_count": 10,
     "metadata": {},
     "output_type": "execute_result"
    }
   ],
   "source": [
    "bell_exp"
   ]
  },
  {
   "cell_type": "code",
   "execution_count": null,
   "metadata": {},
   "outputs": [],
   "source": [
    "Rxy ="
   ]
  },
  {
   "cell_type": "code",
   "execution_count": null,
   "metadata": {},
   "outputs": [],
   "source": [
    "sch = "
   ]
  },
  {
   "cell_type": "code",
   "execution_count": null,
   "metadata": {},
   "outputs": [],
   "source": []
  }
 ],
 "metadata": {
  "kernelspec": {
   "display_name": "Python 3",
   "language": "python",
   "name": "python3"
  },
  "language_info": {
   "codemirror_mode": {
    "name": "ipython",
    "version": 3
   },
   "file_extension": ".py",
   "mimetype": "text/x-python",
   "name": "python",
   "nbconvert_exporter": "python",
   "pygments_lexer": "ipython3",
   "version": "3.7.5"
  }
 },
 "nbformat": 4,
 "nbformat_minor": 4
}
