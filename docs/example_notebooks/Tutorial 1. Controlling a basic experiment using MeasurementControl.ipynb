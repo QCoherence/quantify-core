{
 "cells": [
  {
   "cell_type": "markdown",
   "metadata": {},
   "source": [
    "# Tutorial 1. Controlling a basic experiment using MeasurementControl \n",
    "\n",
    "Following this Tutorial requires familiarity with the **core concepts** of quantify, we **highly recommended** to consult the (short) *User guide* before proceeding (see quantify documentation). If you have some difficulties following the tutorial it might be worth reviewing the *User guide*!\n",
    "\n",
    "This tutorial covers basic usage of quantify focusing on running basic experiments using `MeasurementControl`.\n",
    "The `MeasurementControl` is the main `Instrument` in charge of running any experiment. It takes care of saving the data in a standardized format as well as live plotting of the data during the experiment. \n",
    "`quantify` makes a distinction between `soft`(ware) controlled measurements and `hard`(ware) controlled measurements. \n",
    "\n",
    "In a `soft` measurement `MeasurementControl` is in charge of the measurement loop and consecutively sets and gets datapoints. A `soft` measurement can be 1D, 2D or higher dimensional and also supports adaptive measurements in which the datapoints are determined during the measurement loop. \n",
    "\n",
    "In a `hard` measurement the hardware (such as an AWG) is in charge of the measurement loop. In this case, the datapoints to be acquired are determined before the experiment starts and are precompiled into the hardware which is then armed and starts acquisition. In a `hard` measurement `MeasurementControl` does not take care of the measurement loop but still takes care of the data storage and live plotting of the experiment. \n",
    "\n",
    "This tutorial is structured as follows. \n",
    "In the first section we use a 1D `soft`(ware) controlled loop to explain the flow of a basic experiment. We start by setting up a noisy cosine model to serve as our mock setup and then use the `MC` to measure this. We then perform basic (manual) analysis on the data from this experiment. We show how to find and load a dataset, perform a basic fit, and store the results. "
   ]
  },
  {
   "cell_type": "code",
   "execution_count": null,
   "metadata": {},
   "outputs": [],
   "source": [
    "import numpy as np \n",
    "import xarray as xr \n",
    "import matplotlib.pyplot as plt \n",
    "from qcodes import ManualParameter, Parameter\n",
    "%matplotlib inline"
   ]
  },
  {
   "cell_type": "code",
   "execution_count": null,
   "metadata": {},
   "outputs": [],
   "source": [
    "from quantify.measurement import MeasurementControl\n",
    "from quantify.measurement.control import Settable, Gettable\n",
    "import quantify.visualization.pyqt_plotmon as pqm"
   ]
  },
  {
   "cell_type": "code",
   "execution_count": null,
   "metadata": {},
   "outputs": [],
   "source": [
    "MC = MeasurementControl('MC')\n",
    "# Create the live plotting intrument which handles the graphical interface\n",
    "# Two windows will be created, the main will feature 1D plots and any 2D plots will go to the secondary\n",
    "plotmon = pqm.PlotMonitor_pyqt('plotmon')\n",
    "# Connect the live plotting monitor to the measurement control\n",
    "MC.instr_plotmon(plotmon.name)"
   ]
  },
  {
   "cell_type": "code",
   "execution_count": null,
   "metadata": {},
   "outputs": [],
   "source": [
    "MC.instr_plotmon.get_instr().tuid()"
   ]
  },
  {
   "cell_type": "markdown",
   "metadata": {},
   "source": [
    "## A 1D soft(ware) controlled loop"
   ]
  },
  {
   "cell_type": "markdown",
   "metadata": {},
   "source": [
    "### Define a simple model \n",
    "We start by defining a simple model to mock our experiment setup (i.e. emulate physical setup for demonstration purpuse). We will be generating a cosine with some normally distributed noise added on top of it. "
   ]
  },
  {
   "cell_type": "code",
   "execution_count": null,
   "metadata": {},
   "outputs": [],
   "source": [
    "from time import sleep"
   ]
  },
  {
   "cell_type": "code",
   "execution_count": null,
   "metadata": {},
   "outputs": [],
   "source": [
    "def cos_func(t, amplitude, frequency, phase, offset):\n",
    "    \"\"\"A simple cosine function\"\"\"\n",
    "    return amplitude * np.cos(2 * np.pi * frequency * t + phase) + offset\n",
    "\n",
    "# Parameters are created to emulate a system being measured\n",
    "# ManualParameter's is a handy class that preserves the QCoDeS' Parameter\n",
    "# structure without necessarily having a connection to the physical world\n",
    "amp = ManualParameter('amp', initial_value=1, unit='V', label='Amplitude')\n",
    "freq = ManualParameter('freq', initial_value=.5, unit='Hz', label='Frequency')\n",
    "t = ManualParameter('t', initial_value=1, unit='s', label='Time')\n",
    "phi = ManualParameter('phi', initial_value=0, unit='Rad', label='Phase')\n",
    "\n",
    "# we add in some noise to make the fitting example later on more interesting\n",
    "noise_level = ManualParameter('noise_level', initial_value=0.05, unit='V', label='Noise level')\n",
    "\n",
    "acq_delay = ManualParameter('acq_delay', initial_value=.1, unit='s')\n",
    "\n",
    "def cosine_model():\n",
    "    sleep(acq_delay()) # simulates the acquisition delay of an instrument\n",
    "    return cos_func(t(), amp(), freq(), phase=phi(), offset=0) +np.random.randn()*noise_level()\n",
    "\n",
    "# We wrap our function in a Parameter to be able to associate metadata to it, e.g. units\n",
    "sig = Parameter(name='sig', label='Signal level', unit='V', get_cmd=cosine_model)"
   ]
  },
  {
   "cell_type": "markdown",
   "metadata": {},
   "source": [
    "Many experiments involving physical instruments are much slower than the time it takes to simulate our `cosine_model`, that is way we added a `sleep()` controlled by the `acq_delay`.\n",
    "\n",
    "This allows us to exemplify (later in the tutorial) some of the features of the MC that would be inperceptible otherwise."
   ]
  },
  {
   "cell_type": "code",
   "execution_count": null,
   "metadata": {},
   "outputs": [],
   "source": [
    "# by setting this to a non-zero value we can see the live plotting in action for a slower experiment\n",
    "acq_delay(0.0)"
   ]
  },
  {
   "cell_type": "markdown",
   "metadata": {},
   "source": [
    "### Running the experiment\n",
    "\n",
    "The complete experiment is defined in just 4 lines of code. We specify what parameter we want to set, time `t` in this case, what points to measure at, and what parameter to measure. \n",
    "We then tell the MeasurementControl `MC` to run which will return an `xarray:Dataset` object. \n",
    "\n",
    "We use the `Settable` and `Gettable` helper classes to ensure our parameters contain the correct attributes."
   ]
  },
  {
   "cell_type": "code",
   "execution_count": null,
   "metadata": {},
   "outputs": [],
   "source": [
    "MC.settables(Settable(t))\n",
    "MC.setpoints(np.linspace(0, 5, 50))\n",
    "MC.gettables(Gettable(sig))\n",
    "dset = MC.run('Cosine test')"
   ]
  },
  {
   "cell_type": "code",
   "execution_count": null,
   "metadata": {},
   "outputs": [],
   "source": [
    "# The dataset has a time-based unique identifier automatically assigned to it\n",
    "# The name of the experiment is stored as well\n",
    "dset.attrs['tuid'], dset.attrs['name']"
   ]
  },
  {
   "cell_type": "markdown",
   "metadata": {},
   "source": [
    "The dataset `dset` is stored as an `xarray.Dataset` (you can read more about xarray project at http://xarray.pydata.org/en/stable/).\n",
    "\n",
    "This choice of datastructures come with all the conveniences of xarray, e.g. the visualization in jupyter notebooks.\n",
    "\n",
    "As shown below, a **Data variable** is assigned to each dimension of the settables and the gettable(s), following a format in which the settable take the form x0, x1, etc. and the gettable(s) the form y0, y1, y2, etc.. You can click on the icons on the right to see the attributes of each variable and the values.\n",
    "\n",
    "See \"DataStorage specification\" in the *User guide* for details."
   ]
  },
  {
   "cell_type": "code",
   "execution_count": null,
   "metadata": {},
   "outputs": [],
   "source": [
    "dset"
   ]
  },
  {
   "cell_type": "markdown",
   "metadata": {},
   "source": [
    "We can play with some live plotting options to see how the MC behaves when changing the update interval. "
   ]
  },
  {
   "cell_type": "code",
   "execution_count": null,
   "metadata": {},
   "outputs": [],
   "source": [
    "# By default the MC updates the datafile and live plot every 0.1 seconds (and not faster) to reduce overhead.\n",
    "MC.update_interval(0.1) # Setting it even to 0.01 creates a dramatic slowdown, try it out!"
   ]
  },
  {
   "cell_type": "markdown",
   "metadata": {},
   "source": [
    "In order to avoid an experiment being bottlenecked by the `update_interval` we recommend setting it beween ~0.1-1.0 s for a comfortable refresh rate and good performance."
   ]
  },
  {
   "cell_type": "code",
   "execution_count": null,
   "metadata": {},
   "outputs": [],
   "source": [
    "MC.settables(Settable(t))\n",
    "MC.setpoints(np.linspace(0, 50, 1000))\n",
    "MC.gettables(Gettable(sig))\n",
    "dset = MC.run('Many points live plot test')"
   ]
  },
  {
   "cell_type": "code",
   "execution_count": null,
   "metadata": {},
   "outputs": [],
   "source": [
    "noise_level(0) #let's disable noise from here on to get prettier figures"
   ]
  },
  {
   "cell_type": "markdown",
   "metadata": {},
   "source": [
    "### Analyzing the experiment\n",
    "\n",
    "#### Loading the data\n",
    "The `Dataset` contains all the information required to perform basic analysis of the experiment and information on where the data is stored. \n",
    "We can alternatively load the dataset from disk based on it's `tuid`, a timestamp-based unique identifier. If you do not know the tuid of the experiment you can find the latest tuid containing a certain string in the experiment name using `quantify.data_handling.get_latest_tuid`. See the data storage documentation for more details on the folder structure and files contained in the data directory. \n",
    "\n"
   ]
  },
  {
   "cell_type": "code",
   "execution_count": null,
   "metadata": {},
   "outputs": [],
   "source": [
    "from quantify.data.handling import load_dataset, get_latest_tuid\n",
    "\n",
    "# here we look for the latest datafile in the datadirectory named \"Cosine test\"\n",
    "# note that this is not he last dataset but one dataset earlier\n",
    "tuid = get_latest_tuid('Cosine test') \n",
    "print('tuid: {}'.format(tuid))\n",
    "dset = load_dataset(tuid)\n",
    "\n",
    "dset"
   ]
  },
  {
   "cell_type": "markdown",
   "metadata": {},
   "source": [
    "#### Performing fits and extracting quantities of interest\n",
    "\n",
    "We have used a cosine function to \"mock\" an experiment, the goal of the experiment is to find the underlying parameters. \n",
    "We extract these parameters by performing a fit to a model, which coincidently, is based on the same cosine function. \n",
    "For fitting we recommend using the lmfit library.  See https://lmfit.github.io/lmfit-py/model.html on how to fit data to a custom model."
   ]
  },
  {
   "cell_type": "code",
   "execution_count": null,
   "metadata": {},
   "outputs": [],
   "source": [
    "import lmfit\n",
    "# we create a model based on our function\n",
    "mod = lmfit.Model(cos_func)\n",
    "# and specify initial guesses for each parameter\n",
    "mod.set_param_hint('amplitude', value=.8, vary=True)\n",
    "mod.set_param_hint('frequency', value=.4)\n",
    "mod.set_param_hint('phase', value=0, vary=False)\n",
    "mod.set_param_hint('offset', value=0, vary=False)\n",
    "params = mod.make_params()\n",
    "# and here we perform the fit. \n",
    "fit_res = mod.fit(dset['y0'].values, t=dset['x0'].values, params=params)\n",
    "\n",
    "\n",
    "# It is possible to get a quick visualization of our fit using a build-in method of lmfit\n",
    "fit_res.plot_fit(show_init=True)"
   ]
  },
  {
   "cell_type": "code",
   "execution_count": null,
   "metadata": {},
   "outputs": [],
   "source": [
    "fit_res.params"
   ]
  },
  {
   "cell_type": "code",
   "execution_count": null,
   "metadata": {},
   "outputs": [],
   "source": [
    "# And we can print an overview of the fitting results\n",
    "print(fit_res.fit_report())"
   ]
  },
  {
   "cell_type": "markdown",
   "metadata": {},
   "source": [
    "#### Plotting and saving the results of the analysis"
   ]
  },
  {
   "cell_type": "code",
   "execution_count": null,
   "metadata": {},
   "outputs": [],
   "source": [
    "# We include some visualization utilities in quantify\n",
    "from quantify.visualization.SI_utilities import set_xlabel, set_ylabel"
   ]
  },
  {
   "cell_type": "code",
   "execution_count": null,
   "metadata": {},
   "outputs": [],
   "source": [
    "f, ax = plt.subplots()\n",
    "\n",
    "ax.plot(dset['x0'], dset['y0'], marker='o', label='Data')\n",
    "x_fit = np.linspace(dset['x0'][0], dset['x0'][-1], 1000)\n",
    "y_fit = cos_func(t=x_fit, **fit_res.best_values)\n",
    "ax.plot(x_fit, y_fit, label='Fit')\n",
    "ax.legend()\n",
    "\n",
    "set_xlabel(ax, dset['x0'].attrs['long_name'], dset['x0'].attrs['unit'])\n",
    "set_ylabel(ax, dset['y0'].attrs['long_name'], dset['y0'].attrs['unit'])\n",
    "ax.set_title('{}\\n{}'.format(tuid, 'Cosine test'))"
   ]
  },
  {
   "cell_type": "markdown",
   "metadata": {},
   "source": [
    "Now that we have analyzed our data and created a figure, we probably want to store the results of our analysis. \n",
    "We will want to store the figure and the results of the fit in the `experiment folder`. \n"
   ]
  },
  {
   "cell_type": "code",
   "execution_count": null,
   "metadata": {},
   "outputs": [],
   "source": [
    "from os.path import join\n",
    "from quantify.data.handling import create_exp_folder\n",
    "# Creates a new folder if it does not exist already and return the path to it\n",
    "# Here we are using this function as a convenient way of retrieving the experiment\n",
    "# folder without using an absolute path\n",
    "exp_folder = create_exp_folder(dset.tuid, dset.name)"
   ]
  },
  {
   "cell_type": "code",
   "execution_count": null,
   "metadata": {},
   "outputs": [],
   "source": [
    "# Save fit results\n",
    "lmfit.model.save_modelresult(fit_res, join(exp_folder, 'fit_res.json'))\n",
    "# Save figure\n",
    "f.savefig(join(exp_folder, 'Cosine fit.png'), dpi=300, bbox_inches='tight')"
   ]
  },
  {
   "cell_type": "markdown",
   "metadata": {},
   "source": [
    "## A 2D soft(ware) controlled loop\n",
    "\n",
    "It is often desired to measure heatmaps (2D grids) of some parameter.\n",
    "This can be done by specifying two settables.\n",
    "The setpoints of the grid can be specified in two ways. "
   ]
  },
  {
   "cell_type": "markdown",
   "metadata": {},
   "source": [
    "### Method 1 - a quick grid"
   ]
  },
  {
   "cell_type": "code",
   "execution_count": null,
   "metadata": {},
   "outputs": [],
   "source": [
    "MC.update_interval(.5)"
   ]
  },
  {
   "cell_type": "code",
   "execution_count": null,
   "metadata": {},
   "outputs": [],
   "source": [
    "times = np.linspace(0, 5, 500)\n",
    "amps = np.linspace(-1, 1, 31)\n",
    "\n",
    "MC.settables([Settable(t), Settable(amp)])\n",
    "# MC takes care of creating a meshgrid\n",
    "MC.setpoints_grid([times, amps])\n",
    "MC.gettables(Gettable(sig))\n",
    "dset = MC.run('2D Cosine test')"
   ]
  },
  {
   "cell_type": "code",
   "execution_count": null,
   "metadata": {},
   "outputs": [],
   "source": [
    "plotmon.main_QtPlot"
   ]
  },
  {
   "cell_type": "code",
   "execution_count": null,
   "metadata": {},
   "outputs": [],
   "source": [
    "plotmon.secondary_QtPlot"
   ]
  },
  {
   "cell_type": "markdown",
   "metadata": {},
   "source": [
    "### Method 2 - custom tuples in 2D \n",
    "\n",
    "N.B. it is also possible to do this for higher dimensional loops"
   ]
  },
  {
   "cell_type": "code",
   "execution_count": null,
   "metadata": {},
   "outputs": [],
   "source": [
    "r = np.linspace(0, 1.5, 2000)\n",
    "dt = np.linspace(0, 1, 2000)\n",
    "\n",
    "f = 10\n",
    "\n",
    "theta = np.cos(2*np.pi*f*dt)\n",
    "def polar_coords(r, theta):\n",
    "\n",
    "    x = r*np.cos(2*np.pi*theta)\n",
    "    y = r*np.sin(2*np.pi*theta)\n",
    "    return x, y \n",
    "\n",
    "x,y = polar_coords(r, theta)\n",
    "setpoints = np.column_stack([x,y])\n",
    "setpoints"
   ]
  },
  {
   "cell_type": "code",
   "execution_count": null,
   "metadata": {},
   "outputs": [],
   "source": [
    "acq_delay(0.001)\n",
    "MC.update_interval(0.5)"
   ]
  },
  {
   "cell_type": "code",
   "execution_count": null,
   "metadata": {},
   "outputs": [],
   "source": [
    "MC.settables([t, amp])\n",
    "MC.setpoints(setpoints)\n",
    "MC.gettables(sig)\n",
    "dset = MC.run('2D radial setpoints')"
   ]
  },
  {
   "cell_type": "code",
   "execution_count": null,
   "metadata": {},
   "outputs": [],
   "source": [
    "plotmon.main_QtPlot"
   ]
  },
  {
   "cell_type": "code",
   "execution_count": null,
   "metadata": {},
   "outputs": [],
   "source": [
    "plotmon.secondary_QtPlot"
   ]
  }
 ],
 "metadata": {
  "kernelspec": {
   "display_name": "Python 3",
   "language": "python",
   "name": "python3"
  },
  "language_info": {
   "codemirror_mode": {
    "name": "ipython",
    "version": 3
   },
   "file_extension": ".py",
   "mimetype": "text/x-python",
   "name": "python",
   "nbconvert_exporter": "python",
   "pygments_lexer": "ipython3",
   "version": "3.8.0"
  }
 },
 "nbformat": 4,
 "nbformat_minor": 4
}
