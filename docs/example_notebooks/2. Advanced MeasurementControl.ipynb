{
 "cells": [
  {
   "cell_type": "markdown",
   "metadata": {},
   "source": [
    "# Tutorial 2. Controlling an advanced experiment using MeasurementControl\n",
    "\n",
    "In this tutorial, we will explore the more advanced features of quantify. Recall our previous definition of a `hard` loop. \n",
    "\n",
    "\n",
    "By the end of this tutorial, we will covered"
   ]
  },
  {
   "cell_type": "code",
   "execution_count": 2,
   "metadata": {},
   "outputs": [],
   "source": [
    "import time\n",
    "import random\n",
    "\n",
    "import numpy as np\n",
    "import xarray as xr\n",
    "from qcodes import ManualParameter, Parameter\n",
    "from quantify.measurement.control import MeasurementControl\n",
    "import quantify.visualization.pyqt_plotmon as pqm"
   ]
  },
  {
   "cell_type": "code",
   "execution_count": 3,
   "metadata": {},
   "outputs": [],
   "source": [
    "MC = MeasurementControl('MC')\n",
    "plotmon = pqm.PlotMonitor_pyqt('plotmon_MC')\n",
    "MC.instr_plotmon(plotmon.name)"
   ]
  },
  {
   "cell_type": "markdown",
   "metadata": {},
   "source": [
    "# A 1D hard(ware) controlled loop: Resonator Spectroscopy\n",
    "## Defining a simple model\n",
    "\n",
    "In this example, we want to tune a Qubit. We expect to find it's resonance somewhere in the low 6GHz range, but manufacturing imperfections makes it impossible to know exactly without inspection. Additionally, we can only observe the Qubit using another readout resonator, which must also be calibrated."
   ]
  },
  {
   "cell_type": "code",
   "execution_count": 9,
   "metadata": {},
   "outputs": [],
   "source": [
    "freq = ManualParameter(name='frequency', unit='Hz', label='Frequency')\n",
    "\n",
    "\n",
    "class MockTransmon:\n",
    "    \"\"\"\n",
    "    Args:\n",
    "        mode (str): Number of data rows to return, supports '1D' and '2D'\n",
    "    \"\"\"\n",
    "    def __init__(self):\n",
    "        self.name = 'transmon'\n",
    "        self.unit = 'A'\n",
    "        self.label = 'Amplitude'\n",
    "        self.soft = False\n",
    "        self.resonance = random.randint(6.0e9, 6.0000001e9)\n",
    "\n",
    "    def prepare(self, setpoints):\n",
    "        self.setpoints = setpoints\n",
    "\n",
    "    def get(self):\n",
    "        return (self.setpoints[:] == self.resonance).astype(float)\n"
   ]
  },
  {
   "cell_type": "markdown",
   "metadata": {},
   "source": [
    "## Running the experiment\n",
    "Just like our `soft` 1D loop, our complete experiment is expressed in just four lines of code.\n",
    "\n",
    "Different from the `soft` loop is defining the `soft` property of our `Settable` and `Gettable` to False. The `MeasurementControl` will detect these settings and run in the appropriate`hard` mode."
   ]
  },
  {
   "cell_type": "code",
   "execution_count": 12,
   "metadata": {},
   "outputs": [
    {
     "name": "stdout",
     "output_type": "stream",
     "text": [
      " 100% completed \telapsed time: 0.8s \ttime left: 0.0s\n"
     ]
    }
   ],
   "source": [
    "MC.set_setpars(freq)\n",
    "MC.set_setpoints(np.arange(6.0e9, 6.0000001e9))\n",
    "MC.set_getpars(MockTransmon())\n",
    "dset = MC.run()"
   ]
  },
  {
   "cell_type": "code",
   "execution_count": 13,
   "metadata": {},
   "outputs": [
    {
     "data": {
      "image/png": "[encoded data removed]",
      "text/plain": [
       "<qcodes.plots.pyqtgraph.QtPlot at 0x7f078373e610>"
      ]
     },
     "execution_count": 13,
     "metadata": {},
     "output_type": "execute_result"
    }
   ],
   "source": [
    "plotmon.main_QtPlot"
   ]
  },
  {
   "cell_type": "markdown",
   "metadata": {},
   "source": [
    "# Noisy Hardware\n",
    "Oftentimes we will be working with imperfect hardware. To smooth out this noise, the `MeasurementControl` provides software averaging functionality, where a loop will be run n many times and results averaged together.\n",
    "\n",
    "## 1. A Noisy Experiment\n",
    "Here our mock device will add some random noise to each measurement. Our end result isn't quite what we want"
   ]
  },
  {
   "cell_type": "code",
   "execution_count": null,
   "metadata": {},
   "outputs": [],
   "source": [
    "setpoints = np.arange(20.0)\n",
    "MC.set_setpars(NoneSweep(internal=False))\n",
    "MC.set_setpoints(setpoints)\n",
    "d = DummyDetector('2D')\n",
    "d.noise = 0.8\n",
    "MC.set_getpars(d)\n",
    "noisy_dset = MC.run('noisy')\n",
    "\n",
    "xn_0 = noisy_dset['x0'].values\n",
    "expected_vals = hardware_mock_values_2D(xn_0)\n",
    "yn_0 = abs(noisy_dset['y0'].values - expected_vals[0])\n",
    "yn_1 = abs(noisy_dset['y1'].values - expected_vals[1])"
   ]
  },
  {
   "cell_type": "code",
   "execution_count": null,
   "metadata": {},
   "outputs": [],
   "source": [
    "plotmon.main_QtPlot"
   ]
  },
  {
   "cell_type": "markdown",
   "metadata": {},
   "source": [
    "## 2. An Averaged Experiment\n",
    "Here we set the `soft_avg` parameter of the `MeasurementControl` to our desired number of iterations. By averaging the results of 5000 runs of our experiment, we have filtered out the noise in our hardware."
   ]
  },
  {
   "cell_type": "code",
   "execution_count": null,
   "metadata": {},
   "outputs": [],
   "source": [
    "MC.soft_avg(5000)\n",
    "MC.set_setpars(NoneSweep(internal=False))\n",
    "MC.set_setpoints(setpoints)\n",
    "MC.set_getpars(d)\n",
    "avg_dset = MC.run('averaged')\n",
    "\n",
    "yavg_0 = abs(avg_dset['y0'].values - expected_vals[0])\n",
    "yavg_1 = abs(avg_dset['y1'].values - expected_vals[1])"
   ]
  },
  {
   "cell_type": "code",
   "execution_count": null,
   "metadata": {},
   "outputs": [],
   "source": [
    "plotmon.main_QtPlot"
   ]
  },
  {
   "cell_type": "markdown",
   "metadata": {},
   "source": [
    "We can additionally verify the average error is much larger in the noisy dataset than in adjusted dataset:"
   ]
  },
  {
   "cell_type": "code",
   "execution_count": null,
   "metadata": {},
   "outputs": [],
   "source": [
    "np.mean(yn_0)"
   ]
  },
  {
   "cell_type": "code",
   "execution_count": null,
   "metadata": {},
   "outputs": [],
   "source": [
    "np.mean(yavg_0)"
   ]
  },
  {
   "cell_type": "code",
   "execution_count": null,
   "metadata": {},
   "outputs": [],
   "source": [
    "# internal set, external get\n",
    "\n",
    "mock = ManualParameter('m', initial_value=1, unit='M', label='Mock')\n",
    "\n",
    "def mock_func(none):\n",
    "    # to also test if the values are set correctly in the sweep\n",
    "    arr = np.zeros([2, 2])\n",
    "    arr[0, :] = np.array([mock()])\n",
    "    arr[1, :] = np.array([mock() + 2])\n",
    "    return arr\n",
    "\n",
    "d = DummyDetector(return_dimensions='2D')\n",
    "d.mock_fn = mock_func\n",
    "setpoints = np.repeat(np.arange(5.0), 2)\n",
    "\n",
    "MC.set_setpars(mock)\n",
    "MC.set_setpoints(setpoints)\n",
    "MC.set_getpars(d)\n",
    "dset = MC.run(\"soft_sweep_hard_det\")"
   ]
  },
  {
   "cell_type": "code",
   "execution_count": null,
   "metadata": {},
   "outputs": [],
   "source": [
    "dset"
   ]
  },
  {
   "cell_type": "raw",
   "metadata": {},
   "source": [
    "# Hardware with Varying Return Sizes\n",
    "Sometimes our hardware returns only part of the total dataset. The `MeasurementControl` handles this naturally; we can even soft average these experiments:"
   ]
  },
  {
   "cell_type": "code",
   "execution_count": null,
   "metadata": {},
   "outputs": [],
   "source": [
    "counter_param = ManualParameter(\"counter\", initial_value=0)\n",
    "\n",
    "def v_size(setpoints):\n",
    "    idx = counter_param() % 3\n",
    "    counter_param(counter_param() + 1)\n",
    "    if idx == 0:\n",
    "        return 2 * setpoints[:7]\n",
    "    elif idx == 1:\n",
    "        return 2 * setpoints[:4]\n",
    "    elif idx == 2:\n",
    "        return 2 * setpoints[:]\n",
    "\n",
    "setpoints = np.arange(30.0)\n",
    "d = DummyDetector('1D')\n",
    "d.mock_fn = v_size\n",
    "MC.set_setpars(NoneSweep(internal=False))\n",
    "MC.set_setpoints(setpoints)\n",
    "MC.set_getpars(d)\n",
    "dset = MC.run('varying')"
   ]
  },
  {
   "cell_type": "code",
   "execution_count": null,
   "metadata": {},
   "outputs": [],
   "source": [
    "dset"
   ]
  },
  {
   "cell_type": "code",
   "execution_count": null,
   "metadata": {},
   "outputs": [],
   "source": [
    "times = np.linspace(10, 20, 3)\n",
    "amps = np.linspace(0, 10, 5)\n",
    "\n",
    "MC.set_setpars([NoneSweep(internal=False, name='t', unit='s', label='Time'), NoneSweep(internal=True, name='amp', unit='V', label='Amplitudes')])\n",
    "MC.set_setpoints_grid([times, amps])\n",
    "MC.set_getpars(DummyDetector(\"2D\"))\n",
    "dset = MC.run('2D Hard')"
   ]
  },
  {
   "cell_type": "code",
   "execution_count": null,
   "metadata": {},
   "outputs": [],
   "source": [
    "dset"
   ]
  },
  {
   "cell_type": "code",
   "execution_count": null,
   "metadata": {},
   "outputs": [],
   "source": [
    "plotmon.main_QtPlot"
   ]
  },
  {
   "cell_type": "code",
   "execution_count": null,
   "metadata": {},
   "outputs": [],
   "source": [
    "plotmon.secondary_QtPlot"
   ]
  },
  {
   "cell_type": "code",
   "execution_count": null,
   "metadata": {},
   "outputs": [],
   "source": []
  }
 ],
 "metadata": {
  "kernelspec": {
   "display_name": "Python 3",
   "language": "python",
   "name": "python3"
  },
  "language_info": {
   "codemirror_mode": {
    "name": "ipython",
    "version": 3
   },
   "file_extension": ".py",
   "mimetype": "text/x-python",
   "name": "python",
   "nbconvert_exporter": "python",
   "pygments_lexer": "ipython3",
   "version": "3.8.0"
  }
 },
 "nbformat": 4,
 "nbformat_minor": 4
}
