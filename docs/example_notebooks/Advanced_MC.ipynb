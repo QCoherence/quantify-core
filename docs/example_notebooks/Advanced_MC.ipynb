{
 "cells": [
  {
   "cell_type": "markdown",
   "metadata": {},
   "source": [
    "# Tutorial 2. Advanced capabilities of the MeasurementControl\n",
    "\n",
    "Following this Tutorial requires familiarity with the **core concepts** of quantify, we **highly recommended** to consult the (short) *User guide* before proceeding (see quantify documentation). If you have some difficulties following the tutorial it might be worth reviewing the *User guide*!\n",
    "\n",
    "We **highly recommended** to begin with Tutorial 1 before proceeding.\n",
    "\n",
    "In this tutorial, we will explore the more advanced features of quantify. By the end of this tutorial, we will have covered:\n",
    "\n",
    "- Using hardware to drive experiments\n",
    "- Software averaging"
   ]
  },
  {
   "cell_type": "code",
   "execution_count": null,
   "metadata": {},
   "outputs": [],
   "source": [
    "import time\n",
    "import random\n",
    "\n",
    "import numpy as np\n",
    "import xarray as xr\n",
    "import scipy\n",
    "from qcodes import ManualParameter, Parameter\n",
    "%matplotlib inline\n",
    "from quantify.measurement.control import MeasurementControl\n",
    "import quantify.visualization.pyqt_plotmon as pqm"
   ]
  },
  {
   "cell_type": "code",
   "execution_count": null,
   "metadata": {},
   "outputs": [],
   "source": [
    "MC = MeasurementControl('MC')\n",
    "plotmon = pqm.PlotMonitor_pyqt('plotmon_MC')\n",
    "MC.instr_plotmon(plotmon.name)"
   ]
  },
  {
   "cell_type": "markdown",
   "metadata": {},
   "source": [
    "## A 1D hard(ware) controlled loop: Resonator Spectroscopy\n",
    "### Defining a simple model\n",
    "\n",
    "In this example, we want to find the resonance of some device. We expect to find it's resonance somewhere in the low 6GHz range, but manufacturing imperfections makes it impossible to know exactly without inspection.\n",
    "\n",
    "We first create `freq`: a `Settable` with a `QCodes.Parameter` (a `ManualParameter`) to represent the frequency of the signal probing the resonator, followed by a custom `Gettable` to mock (i.e. emulate) the resonating material. The Resonator will return a Lorentzian shape centred on the resonant frequency. Our `Gettable` will read the setpoints from `freq`, in this case a 1D array.\n",
    "\n",
    "Note that the `Resonator` `Gettable` has a new field `soft` set to `False`. This property informs the MeasurementControl that it will not be in charge of iterating over the setpoints, instead the `Resonator` manages its own data acquisition."
   ]
  },
  {
   "cell_type": "code",
   "execution_count": null,
   "metadata": {},
   "outputs": [],
   "source": [
    "# Note that in an actual experimental setup `freq` will be a QCoDeS parameter\n",
    "# contained in a QCoDeS `Instrument`\n",
    "freq = ManualParameter(name='frequency', unit='Hz', label='Frequency')\n",
    "# NB a QCoDeS parameter can be of many different types, e.g. floats, integers\n",
    "# but it can also be, for example, and array of floats. This is the case in a hard(ware) controlled loop\n",
    "\n",
    "# model of the frequency response\n",
    "def lorenz(amplitude, fwhm, x, x_0):\n",
    "    return (amplitude * ((fwhm / 2.) ** 2) / ((x - x_0) ** 2 + (fwhm / 2.) ** 2))\n",
    "\n",
    "\n",
    "class Resonator:\n",
    "    def __init__(self):\n",
    "        self.name = 'resonator'\n",
    "        self.unit = 'V'\n",
    "        self.label = 'Amplitude'\n",
    "        self.soft = False\n",
    "        \n",
    "        # variables specific to the emulated material\n",
    "        self.test_resonance = 6.0001048e9 # in Hz\n",
    "        self.test_width = 300 # FWHM in Hz\n",
    "\n",
    "    def get(self):\n",
    "        print(\"The `get` method of the `Gettable` was called\")\n",
    "        # Emulation of the frequency response\n",
    "        return 1-np.array(list(map(lambda x: lorenz(1, self.test_width, x, self.test_resonance), freq())))\n"
   ]
  },
  {
   "cell_type": "markdown",
   "metadata": {},
   "source": [
    "### Running the experiment\n",
    "Just like our `soft` 1D loop, our complete experiment is expressed in just four lines of code.\n",
    "\n",
    "The main difference is defining the `soft` property of our `Gettable` to False. The `MeasurementControl` will detect these settings and run in the appropriate`hard` mode."
   ]
  },
  {
   "cell_type": "code",
   "execution_count": null,
   "metadata": {},
   "outputs": [],
   "source": [
    "# At this point the `freq` parameter is empty\n",
    "print(freq())"
   ]
  },
  {
   "cell_type": "code",
   "execution_count": null,
   "metadata": {},
   "outputs": [],
   "source": [
    "MC.settables(freq)\n",
    "MC.setpoints(np.arange(6.0001e9, 6.00011e9, 5))\n",
    "MC.gettables(Resonator())\n",
    "dset = MC.run()"
   ]
  },
  {
   "cell_type": "code",
   "execution_count": null,
   "metadata": {},
   "outputs": [],
   "source": [
    "plotmon.main_QtPlot"
   ]
  },
  {
   "cell_type": "markdown",
   "metadata": {},
   "source": [
    "As expected, we find a Lorentzian spike in the readout at the resonant frequency, finding the peak of which is trivial.\n",
    "\n",
    "Note that the `get` method of the `Resonator` `Gettable` was called only a single time since the Measurement Control is not in charge of the iteration over the setpoints. Internally, the Measurement Control limits itself to *setting* the `setpoints` in the `Settable`, all at once. As we can ispect, the `freq` parameter is not empty anymore:"
   ]
  },
  {
   "cell_type": "code",
   "execution_count": null,
   "metadata": {},
   "outputs": [],
   "source": [
    "print(freq())"
   ]
  },
  {
   "cell_type": "markdown",
   "metadata": {},
   "source": [
    "## Software Averaging: T1 Experiment\n",
    "In many cases it is desirable to run an experiment many times and average the result, such as when filtering noise on instruments or measuring probability. For this purpose, the MeasurementControl provides the `soft_avg` parameter. If set to *x*, the experiment will run *x* times whilst performing a running average over each setpoint.\n",
    "\n",
    "In this example, we want to find the relaxation time (aka T1) of a Qubit. As before, we define a `Settable` and `Gettable`, representing the varying timescales we will probe through and a mock Qubit emulated in software. The mock Qubit returns the expected decay sweep but with a small amount of noise (simulating the variable qubit characteristics). We set the qubit's T1 to 60ms - obviously in a real experiment we would be trying to determine this, but for this ilustration purpuses in this tutorial we set it to a known value to verify our fit later on.\n",
    "\n",
    "Note that in this example MC is still running in the `hard` mode."
   ]
  },
  {
   "cell_type": "code",
   "execution_count": null,
   "metadata": {},
   "outputs": [],
   "source": [
    "MC.soft_avg(1)"
   ]
  },
  {
   "cell_type": "code",
   "execution_count": null,
   "metadata": {},
   "outputs": [],
   "source": [
    "# T1 experiment decay model\n",
    "def decay(t, tau):\n",
    "    return np.exp(-t/tau)\n",
    "\n",
    "time_par = ManualParameter(name='time', unit='s', label='Measurement Time')\n",
    "\n",
    "class MockQubit:\n",
    "    def __init__(self):\n",
    "        self.name = 'qubit'\n",
    "        self.unit = '%'\n",
    "        self.label = 'High V'\n",
    "        self.soft = False # This is a hard(ware) controlled loop!\n",
    "        \n",
    "        self.delay = 0.05 # sleep time in secs\n",
    "        self.test_relaxation_time = 60e-6\n",
    "\n",
    "    def get(self):\n",
    "        time.sleep(self.delay) # adds a delay to be able to appreciate the data aquisition\n",
    "        return np.array(list(map(lambda x: decay(x, self.test_relaxation_time) + random.uniform(-0.1, 0.1), time_par())))\n"
   ]
  },
  {
   "cell_type": "markdown",
   "metadata": {},
   "source": [
    "We will then sweep through 0 to 300ms, getting our data from the mock Qubit. Let's first observe what a single run looks like:"
   ]
  },
  {
   "cell_type": "code",
   "execution_count": null,
   "metadata": {},
   "outputs": [],
   "source": [
    "MC.settables(time_par)\n",
    "MC.setpoints(np.linspace(0.0, 300.0e-6, 300))\n",
    "MC.gettables(MockQubit())\n",
    "MC.run('noisy')\n",
    "plotmon.main_QtPlot"
   ]
  },
  {
   "cell_type": "markdown",
   "metadata": {},
   "source": [
    "Alas, the noise in the signal has made this result unusable! Let's set the `soft_avg` parameter of the MeasurementControl to 100, averaging the results and hopefully filtering out the noise."
   ]
  },
  {
   "cell_type": "code",
   "execution_count": null,
   "metadata": {},
   "outputs": [],
   "source": [
    "MC.soft_avg(100)\n",
    "dset = MC.run('averaged')\n",
    "plotmon.main_QtPlot"
   ]
  },
  {
   "cell_type": "markdown",
   "metadata": {},
   "source": [
    "Success! We now have a smooth decay curve based on the characteristics of our qubit. All that remains is to run a fit against the expected values and we can solve for T1."
   ]
  },
  {
   "cell_type": "code",
   "execution_count": null,
   "metadata": {},
   "outputs": [],
   "source": [
    "from lmfit import Model\n",
    "\n",
    "model = Model(decay, independent_vars=['t'])\n",
    "fit_res = model.fit(dset['y0'].values, t=dset['x0'].values, tau=1)\n",
    "\n",
    "fit_res.plot_fit(show_init=True)\n",
    "fit_res.values"
   ]
  },
  {
   "cell_type": "markdown",
   "metadata": {},
   "source": [
    "## Interrupting\n",
    "\n",
    "Sometimes experiments unfortunately don't go as planned and it is desirable to interrupt and restart them with new parameters. In the following example, we have a long running experiment where our Gettable is taking a long time to return data (maybe due to misconfiguration). Rather than waiting for this experiment to complete, instead we can interrupt any MeasurementControl loop using the standard interrupt signal. In a terminal environment this is usually achieved with a 'Ctrl-C' command or equivalent, whilst in a Jupyter environment interrupting the kernel will cause the same result.\n",
    "\n",
    "When the MeasurementControl is interrupted, it will perform a final save of the data it has gathered, call the `finish()` method on Settables & Gettables (if it exists) and return the partially completed dataset.\n",
    "\n",
    "---\n",
    "*Note*\n",
    "\n",
    "The exact means of triggering an interrupt will differ depending on your platform and environment; the important part is to cause a `KeyboardInterrupt` exception to be raised in the Python process.\n",
    "\n",
    "---"
   ]
  },
  {
   "cell_type": "code",
   "execution_count": null,
   "metadata": {},
   "outputs": [],
   "source": [
    "class SlowGettable:\n",
    "    def __init__(self):\n",
    "        self.name = 'slow'\n",
    "        self.label = 'Amplitude'\n",
    "        self.unit = 'V'\n",
    "        \n",
    "    def get(self):\n",
    "        time.sleep(2.0)\n",
    "        return time_par()\n",
    "\n",
    "\n",
    "MC.settables(time_par)\n",
    "MC.setpoints(np.arange(20))\n",
    "MC.gettables(SlowGettable())\n",
    "# Try interrupting me!\n",
    "dset = MC.run('slow')"
   ]
  },
  {
   "cell_type": "code",
   "execution_count": null,
   "metadata": {},
   "outputs": [],
   "source": [
    "plotmon.main_QtPlot"
   ]
  },
  {
   "cell_type": "code",
   "execution_count": null,
   "metadata": {},
   "outputs": [],
   "source": []
  }
 ],
 "metadata": {
  "kernelspec": {
   "display_name": "Python 3",
   "language": "python",
   "name": "python3"
  },
  "language_info": {
   "codemirror_mode": {
    "name": "ipython",
    "version": 3
   },
   "file_extension": ".py",
   "mimetype": "text/x-python",
   "name": "python",
   "nbconvert_exporter": "python",
   "pygments_lexer": "ipython3",
   "version": "3.8.0"
  }
 },
 "nbformat": 4,
 "nbformat_minor": 4
}
