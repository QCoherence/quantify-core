{
 "cells": [
  {
   "cell_type": "markdown",
   "metadata": {},
   "source": [
    "# Tutorial 3. Adaptive Measurements\n",
    "\n",
    "Following this Tutorial requires familiarity with the **core concepts** of Quantify, we **highly recommended** to consult the (short) *User guide* before proceeding (see Quantify documentation). If you have some difficulties following the tutorial it might be worth reviewing the *User guide*!\n",
    "\n",
    "We **highly recommended** to follow at least Tutorial 1 before proceeding.\n",
    "\n",
    "In this tutorial, we explore the adaptive functionality of the MeasurementControl. With this mode, instead of predefining a grid of values to sweep through, we provide an optimization function and an initial state to the MC. The MC will then use this function to build the sweep. We import our usual modules and setup an MC with visualization: "
   ]
  },
  {
   "cell_type": "code",
   "execution_count": null,
   "metadata": {},
   "outputs": [],
   "source": [
    "from quantify.measurement.control import MeasurementControl\n",
    "import quantify.visualization.pyqt_plotmon as pqm"
   ]
  },
  {
   "cell_type": "code",
   "execution_count": null,
   "metadata": {},
   "outputs": [],
   "source": [
    "MC = MeasurementControl('MC')\n",
    "plotmon = pqm.PlotMonitor_pyqt('plotmon_MC')\n",
    "MC.instr_plotmon(plotmon.name)"
   ]
  },
  {
   "cell_type": "markdown",
   "metadata": {},
   "source": [
    "## Finding a minimum\n",
    "We will create a mock Instrument our MC will interact with. In this case, it is a simple parabola centred at the origin."
   ]
  },
  {
   "cell_type": "code",
   "execution_count": null,
   "metadata": {},
   "outputs": [],
   "source": [
    "from qcodes.instrument.base import Instrument\n",
    "from qcodes import ManualParameter, Parameter\n",
    "from qcodes.utils import validators as vals\n",
    "import time\n",
    "import numpy as np\n",
    "\n",
    "x = ManualParameter('x', unit='m', label='X')\n",
    "y = ManualParameter('y', unit='m', label='Y')\n",
    "noise = ManualParameter('noise', unit='V', label='white noise amplitude')\n",
    "\n",
    "def parabola_model():\n",
    "    time.sleep(0.01)  # for display purposes, just so we can watch the live plot update\n",
    "    return x() ** 2 + y() ** 2 + noise() * np.random.rand(1)\n",
    "\n",
    "parabola = Parameter('parabola', unit='V', label='Parabola', get_cmd=parabola_model)"
   ]
  },
  {
   "cell_type": "markdown",
   "metadata": {},
   "source": [
    "Next, we will use the `optimize` package from `scipy` to provide our adaptive function. You can of course implement your own functions for this purpose, but for brevity we will use something standard and easily available."
   ]
  },
  {
   "cell_type": "code",
   "execution_count": null,
   "metadata": {},
   "outputs": [],
   "source": [
    "from scipy import optimize"
   ]
  },
  {
   "cell_type": "markdown",
   "metadata": {},
   "source": [
    "Then, we set our Settables and Gettables as usual, and define a new dictionary `af_pars`. The only required key in this object is \"adaptive_function\", the value of which being the adaptive function to use. The remaining fields in this dictionary are the arguments to the adaptive function itself. We also add some noise into the parabola to stress our adaptive function.\n",
    "\n",
    "**As such, it is highly recommended to thoroughly read the documentation around the adaptive function you are using.**\n",
    "\n",
    "We will use the `optimize.minimize` function (note this is passed by reference as opposed to calling the `minimize` function), which requires an initial state named \"x0\" and an algorithm to use named \"method\". In this case, we are starting at (-50, -50) and hope to minimize these values relative to our parabola function. Of course, this parabola has it's global minimum at the origin, thus these values will tend towards 0 as our algorithm progresses."
   ]
  },
  {
   "cell_type": "code",
   "execution_count": null,
   "metadata": {},
   "outputs": [],
   "source": [
    "MC.settables([x, y])\n",
    "af_pars = {\n",
    "    \"adaptive_function\": optimize.minimize, # used by MC\n",
    "    \"x0\": [-50, -50], # used by `optimize.minimize` (in this case)\n",
    "    \"method\": \"Nelder-Mead\" # used by `optimize.minimize` (in this case)\n",
    "}\n",
    "noise(0.5)\n",
    "MC.gettables(parabola)\n",
    "dset = MC.run_adaptive('nelder_mead_optimization', af_pars)"
   ]
  },
  {
   "cell_type": "code",
   "execution_count": null,
   "metadata": {},
   "outputs": [],
   "source": [
    "dset"
   ]
  },
  {
   "cell_type": "code",
   "execution_count": null,
   "metadata": {},
   "outputs": [],
   "source": [
    "plotmon.main_QtPlot"
   ]
  },
  {
   "cell_type": "code",
   "execution_count": null,
   "metadata": {},
   "outputs": [],
   "source": [
    "plotmon.secondary_QtPlot"
   ]
  },
  {
   "cell_type": "markdown",
   "metadata": {},
   "source": [
    "We can see from the graphs that the values of the settables in the dataset snake towards 0 as expected. Success!"
   ]
  },
  {
   "cell_type": "markdown",
   "metadata": {},
   "source": [
    "## Adaptive Sampling\n",
    "Quantify is designed to be modular and the adaptive functions support is no different. To this end, the MC has first class support for the `adaptive` package. Let's see what the same experiment looks like with this module. Note the fields of the `af_pars` dictionary have changed to be compatible with the different adaptive function we are using.\n",
    "\n",
    "As a practical example, let's revisit a Resonator Spectroscopy experiment. This time we only know our device has a resonance in 6GHz-7GHz range. We really don't want to sweep through a million points, so instead let's use an adaptive sampler to quickly locate our peak."
   ]
  },
  {
   "cell_type": "code",
   "execution_count": null,
   "metadata": {},
   "outputs": [],
   "source": [
    "freq = ManualParameter(name='frequency', unit='Hz', label='Frequency')\n",
    "amp = ManualParameter(name='amp', unit='V', label='Amplitude')\n",
    "fwhm = 3e6\n",
    "resonance_freq = 6.6e9 # pretend you don't know what this value is\n",
    "\n",
    "def lorenz():\n",
    "    time.sleep(0.1)  # for display purposes, just so we can watch the graph update\n",
    "    return 1-(amp() * ((fwhm / 2.) ** 2) / ((freq() - resonance_freq) ** 2 + (fwhm / 2.) ** 2))\n",
    "\n",
    "resonance = Parameter('resonance', unit='V', label='Amplitude', get_cmd=lorenz)"
   ]
  },
  {
   "cell_type": "code",
   "execution_count": null,
   "metadata": {},
   "outputs": [],
   "source": [
    "import adaptive\n",
    "\n",
    "amp(1)\n",
    "MC.settables([freq])\n",
    "af_pars = {\n",
    "    \"adaptive_function\": adaptive.learner.Learner1D,\n",
    "    \"goal\": lambda l: l.npoints > 100,\n",
    "    \"bounds\": (6.0e9, 7.0e9),\n",
    "}\n",
    "MC.gettables(resonance)\n",
    "dset = MC.run_adaptive('adaptive sample', af_pars)"
   ]
  },
  {
   "cell_type": "code",
   "execution_count": null,
   "metadata": {},
   "outputs": [],
   "source": [
    "dset"
   ]
  },
  {
   "cell_type": "code",
   "execution_count": null,
   "metadata": {},
   "outputs": [],
   "source": [
    "plotmon.main_QtPlot"
   ]
  },
  {
   "cell_type": "markdown",
   "metadata": {},
   "source": [
    "## FAQ\n",
    "### Can I return multi-dimensional data from a Gettable in Adaptive Mode?\n",
    "Yes, but only first dimension (y0) will be considered by the adaptive function; the remaining dimensions will merely be\n",
    "saved to the dataset."
   ]
  }
 ],
 "metadata": {
  "kernelspec": {
   "display_name": "Python 3",
   "language": "python",
   "name": "python3"
  },
  "language_info": {
   "codemirror_mode": {
    "name": "ipython",
    "version": 3
   },
   "file_extension": ".py",
   "mimetype": "text/x-python",
   "name": "python",
   "nbconvert_exporter": "python",
   "pygments_lexer": "ipython3",
   "version": "3.8.0"
  }
 },
 "nbformat": 4,
 "nbformat_minor": 4
}
