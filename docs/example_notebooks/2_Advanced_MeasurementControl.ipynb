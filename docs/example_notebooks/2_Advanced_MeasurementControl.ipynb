{
 "cells": [
  {
   "cell_type": "markdown",
   "metadata": {},
   "source": [
    "# Tutorial 2. Advanced capabilities of the MeasurementControl\n",
    "\n",
    "In this tutorial, we will explore the more advanced features of quantify. By the end of this tutorial, we will have covered:\n",
    "\n",
    "- Using hardware to drive experiments\n",
    "- Software averaging\n",
    "- Safely interrupting a running experiment"
   ]
  },
  {
   "cell_type": "code",
   "execution_count": null,
   "metadata": {},
   "outputs": [],
   "source": [
    "import time\n",
    "import random\n",
    "\n",
    "import numpy as np\n",
    "import xarray as xr\n",
    "import scipy\n",
    "from qcodes import ManualParameter, Parameter\n",
    "%matplotlib inline\n",
    "from quantify.measurement.control import MeasurementControl\n",
    "import quantify.visualization.pyqt_plotmon as pqm"
   ]
  },
  {
   "cell_type": "code",
   "execution_count": null,
   "metadata": {},
   "outputs": [],
   "source": [
    "MC = MeasurementControl('MC')\n",
    "plotmon = pqm.PlotMonitor_pyqt('plotmon_MC')\n",
    "MC.instr_plotmon(plotmon.name)"
   ]
  },
  {
   "cell_type": "markdown",
   "metadata": {},
   "source": [
    "## A 1D hard(ware) controlled loop: Resonator Spectroscopy\n",
    "### Defining a simple model\n",
    "\n",
    "In this example, we want to find the resonance of some device. We expect to find it's resonance somewhere in the low 6GHz range, but manufacturing imperfections makes it impossible to know exactly without inspection.\n",
    "\n",
    "We first create a `Settable` with a `QCodes.Parameter` to represent our frequency sweep range, followed by a custom `Gettable` to mock the resonating material. The Resonator will return a flat array with a spike at it's resonant frequency.\n",
    "\n",
    "Note that the Resonator `Gettable` has a new field `soft` set to `False`. This property informs the MeasurementControl does not drive the Resonator, but instead the Resonator manages its own data acquisition."
   ]
  },
  {
   "cell_type": "code",
   "execution_count": null,
   "metadata": {},
   "outputs": [],
   "source": [
    "freq = ManualParameter(name='frequency', unit='Hz', label='Frequency')\n",
    "\n",
    "\n",
    "class Resonator:\n",
    "    def __init__(self):\n",
    "        self.name = 'resonator'\n",
    "        self.unit = 'V'\n",
    "        self.label = 'Power'\n",
    "        self.soft = False\n",
    "        self.test_resonance = random.randint(6.0001e9, 6.0002e9)\n",
    "\n",
    "    def prepare(self, setpoints):\n",
    "        self.setpoints = setpoints\n",
    "\n",
    "    def get(self):\n",
    "        return (self.setpoints[:] == self.test_resonance).astype(float)\n"
   ]
  },
  {
   "cell_type": "markdown",
   "metadata": {},
   "source": [
    "### Running the experiment\n",
    "Just like our `soft` 1D loop, our complete experiment is expressed in just four lines of code.\n",
    "\n",
    "The main difference is defining the `soft` property of our `Gettable` to False. The `MeasurementControl` will detect these settings and run in the appropriate`hard` mode."
   ]
  },
  {
   "cell_type": "code",
   "execution_count": null,
   "metadata": {},
   "outputs": [],
   "source": [
    "MC.set_setpars(freq)\n",
    "MC.set_setpoints(np.arange(6.0001e9, 6.0002e9))\n",
    "MC.set_getpars(Resonator())\n",
    "dset = MC.run()"
   ]
  },
  {
   "cell_type": "code",
   "execution_count": null,
   "metadata": {},
   "outputs": [],
   "source": [
    "plotmon.main_QtPlot"
   ]
  },
  {
   "cell_type": "markdown",
   "metadata": {},
   "source": [
    "As expected, we find a single spike in the readout at the resonant frequency."
   ]
  },
  {
   "cell_type": "markdown",
   "metadata": {},
   "source": [
    "## Software Averaging: T1 Experiment\n",
    "In many cases it is desirable to run an experiment many times and average the result, such as when filtering noise on instruments or measuring probability. For this purpose, the MeasurementControl provides the `soft_avg` parameter. If set to x, the experiment will run x times whilst performing a running average over each setpoint.\n",
    "\n",
    "In this example, we want to find the relaxation time (or T1) of a Qubit. As before, we define a `Settable` and `Gettable`, representing the varying timescales we will probe through and a mock Qubit emulated in software. The mock Qubit returns the expected decay sweep but with a small amount of noise (simulating the variable qubit characteristics). We also set the qubit's T1 to 60ms - obviously in a real experiment we would be trying to discern this, but for this tutorial we set it to a known value to verify our fit later on."
   ]
  },
  {
   "cell_type": "code",
   "execution_count": null,
   "metadata": {},
   "outputs": [],
   "source": [
    "def decay(t, tau):\n",
    "    return np.exp(-t/tau)\n",
    "\n",
    "time_par = ManualParameter(name='time', unit='s', label='Measurement Time')\n",
    "\n",
    "class MockQubit:\n",
    "    def __init__(self):\n",
    "        self.name = 'qubit'\n",
    "        self.unit = '%'\n",
    "        self.label = 'High V'\n",
    "        self.soft = False\n",
    "        self.setpoints = []\n",
    "        self.test_relaxation_time = 60e-6\n",
    "\n",
    "    def prepare(self, setpoints):\n",
    "        self.setpoints = setpoints\n",
    "\n",
    "    def get(self):\n",
    "        return np.array(list(map(lambda x: decay(x, self.test_relaxation_time) + random.uniform(-0.1, 0.1), self.setpoints)))\n"
   ]
  },
  {
   "cell_type": "markdown",
   "metadata": {},
   "source": [
    "We will then sweep through 0 to 300ms, getting our data from the mock Qubit:"
   ]
  },
  {
   "cell_type": "code",
   "execution_count": null,
   "metadata": {},
   "outputs": [],
   "source": [
    "MC.set_setpars(time_par)\n",
    "MC.set_setpoints(np.linspace(0.0, 300.0e-6, 300))\n",
    "MC.set_getpars(MockQubit())\n",
    "MC.run('noisy')\n",
    "plotmon.main_QtPlot"
   ]
  },
  {
   "cell_type": "markdown",
   "metadata": {},
   "source": [
    "Alas, the noise in the signal has made this result unusable! Let's set the `soft_avg` parameter of the MeasurementControl to 5000. As above, this will run the experiment 5000 times, averaging the results and hopefully filtering out the noise."
   ]
  },
  {
   "cell_type": "code",
   "execution_count": null,
   "metadata": {},
   "outputs": [],
   "source": [
    "MC.soft_avg(5000)\n",
    "dset = MC.run('averaged')\n",
    "plotmon.main_QtPlot"
   ]
  },
  {
   "cell_type": "markdown",
   "metadata": {},
   "source": [
    "Success! We now have a smooth decay curve based on the characteristics of our qubit. All that remains is to run a fit against the expected values and we can solve for T1."
   ]
  },
  {
   "cell_type": "code",
   "execution_count": null,
   "metadata": {},
   "outputs": [],
   "source": [
    "from lmfit import Model\n",
    "\n",
    "model = Model(decay, independent_vars=['t'])\n",
    "fit_res = model.fit(dset['y0'].values, t=dset['x0'].values, tau=1)\n",
    "\n",
    "fit_res.plot_fit(show_init=True)\n",
    "fit_res.values"
   ]
  },
  {
   "cell_type": "markdown",
   "metadata": {},
   "source": []
  },
  {
   "cell_type": "code",
   "execution_count": null,
   "metadata": {},
   "outputs": [],
   "source": []
  },
  {
   "cell_type": "code",
   "execution_count": null,
   "metadata": {},
   "outputs": [],
   "source": []
  }
 ],
 "metadata": {
  "kernelspec": {
   "display_name": "Python 3",
   "language": "python",
   "name": "python3"
  },
  "language_info": {
   "codemirror_mode": {
    "name": "ipython",
    "version": 3
   },
   "file_extension": ".py",
   "mimetype": "text/x-python",
   "name": "python",
   "nbconvert_exporter": "python",
   "pygments_lexer": "ipython3",
   "version": "3.8.0"
  }
 },
 "nbformat": 4,
 "nbformat_minor": 4
}
