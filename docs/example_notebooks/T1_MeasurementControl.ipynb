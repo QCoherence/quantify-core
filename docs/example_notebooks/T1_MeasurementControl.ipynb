{
 "cells": [
  {
   "cell_type": "markdown",
   "metadata": {},
   "source": [
    "# Tutorial 1. Controlling a basic experiment using MeasurementControl \n",
    "\n",
    "This tutorial covers basic usage of quantify focusing on running basic experiments using `MeasurementControl`. \n",
    "The `MeasurementControl` is the main `Instrument` in charge of running any experiment. It takes care of saving the data in a standardized format as well as live plotting of the data during the experiment. \n",
    "`quantify` makes a distinction between `soft`(ware) controlled measurements and `hard`(ware) controlled measurements. \n",
    "\n",
    "In a `soft` measurement `MeasurementControl` is in charge of the measurement loop and consecutively sets and gets datapoints. A `soft` measurement can be 1D, 2D or higher dimensional and also supports (TODO) adaptive measurements in which the datapoints are determined during the measurement loop. \n",
    "\n",
    "In a `hard` measurement the hardware (such as an AWG or a central controller) is in charge of the measurement loop. In this case, the datapoints to be acquired are determined before the experiment starts and are precompiled into the hardware which is then armed and starts acquisition. In a `hard` measurement `MeasurementControl` does not take care of the measurement loop but still takes care of the data storage and live plotting of the experiment. \n",
    "\n",
    "This tutorial is structured as follows. \n",
    "In the first section we use a 1D `soft`(ware) controlled loop to explain the flow of a basic experiment. We start by setting up a noisy cosine model to serve as our mock setup and then use the `MC` to measure this. We then perform basic (manual) analysis on the data from this experiment. We show how to find and load a dataset, perform a basic fit, and store the results. \n",
    "In the later tutorials we show more advanced usage of the Measurement control including `hard`(ware) controlled experiments (todo) and adaptive loops (todo).\n"
   ]
  },
  {
   "cell_type": "code",
   "execution_count": null,
   "metadata": {},
   "outputs": [],
   "source": [
    "import numpy as np \n",
    "import xarray as xr \n",
    "import matplotlib.pyplot as plt \n",
    "from qcodes import ManualParameter, Parameter\n",
    "%matplotlib inline"
   ]
  },
  {
   "cell_type": "code",
   "execution_count": null,
   "metadata": {},
   "outputs": [],
   "source": [
    "from quantify.measurement import MeasurementControl\n",
    "from quantify.measurement.core import Settable, Gettable\n",
    "import quantify.visualization.pyqt_plotmon as pqm"
   ]
  },
  {
   "cell_type": "code",
   "execution_count": null,
   "metadata": {},
   "outputs": [],
   "source": [
    "MC = MeasurementControl('MC')\n",
    "plotmon = pqm.PlotMonitor_pyqt('plotmon')\n",
    "MC.instr_plotmon(plotmon.name)"
   ]
  },
  {
   "cell_type": "code",
   "execution_count": null,
   "metadata": {},
   "outputs": [],
   "source": [
    "MC.instr_plotmon.get_instr().tuid()"
   ]
  },
  {
   "cell_type": "markdown",
   "metadata": {},
   "source": [
    "## A 1D soft(ware) controlled loop"
   ]
  },
  {
   "cell_type": "markdown",
   "metadata": {},
   "source": [
    "### Define a simple model \n",
    "We start by defining a simple model to mock our experiment setup. We will be generating a cosine with some normally distributed noise added on top of it. "
   ]
  },
  {
   "cell_type": "code",
   "execution_count": null,
   "metadata": {},
   "outputs": [],
   "source": [
    "from time import sleep"
   ]
  },
  {
   "cell_type": "code",
   "execution_count": null,
   "metadata": {},
   "outputs": [],
   "source": [
    "def cos_func(t, amplitude, frequency, phase, offset):\n",
    "    \"\"\"A simple cosine function\"\"\"\n",
    "    return amplitude * np.cos(2 * np.pi * frequency * t + phase) + offset\n",
    "\n",
    "# Parameters are created to emulate a system being measured \n",
    "amp = ManualParameter('amp', initial_value=1, unit='V', label='Amplitude')\n",
    "freq = ManualParameter('freq', initial_value=.5, unit='Hz', label='Frequency')\n",
    "t = ManualParameter('t', initial_value=1, unit='s', label='Time')\n",
    "phi = ManualParameter('phi', initial_value=0, unit='Rad', label='Phase')\n",
    "\n",
    "# we add in some noise to make the fitting example later on more interesting\n",
    "noise_level = ManualParameter('noise_level', initial_value=0.05, unit='V', label='Noise level')\n",
    "\n",
    "acq_delay = ManualParameter('acq_delay', initial_value=.1, unit='s')\n",
    "\n",
    "def cosine_model():\n",
    "    sleep(acq_delay())\n",
    "    return cos_func(t(), amp(), freq(), phase=phi(), offset=0) +np.random.randn()*noise_level()\n",
    "\n",
    "# We wrap our function in a Parameter to be able to give \n",
    "sig = Parameter(name='sig', label='Signal level', unit='V', get_cmd=cosine_model)"
   ]
  },
  {
   "cell_type": "code",
   "execution_count": null,
   "metadata": {},
   "outputs": [],
   "source": [
    "acq_delay(0.0) # by setting this to a non-zero value we can see the live plotting in action. "
   ]
  },
  {
   "cell_type": "markdown",
   "metadata": {},
   "source": [
    "### Running the experiment\n",
    "\n",
    "The complete experiment is defined in just 4 lines of code. We specify what parameter we want to set, time `t` in this case, what points to measure at, and what parameter to measure. \n",
    "We then tell the MeasurementControl `MC` to run which will return an `xarray:Dataset` object. \n",
    "\n",
    "We use the `Settable` and `Gettable` helper classes to ensure our parameters contain the correct attributes."
   ]
  },
  {
   "cell_type": "code",
   "execution_count": null,
   "metadata": {},
   "outputs": [],
   "source": [
    "MC.set_setpars(Settable(t))\n",
    "MC.set_setpoints(np.linspace(0, 5, 50))\n",
    "MC.set_getpars(Gettable(sig))\n",
    "dset = MC.run('Cosine test')\n"
   ]
  },
  {
   "cell_type": "code",
   "execution_count": null,
   "metadata": {},
   "outputs": [],
   "source": [
    "plotmon.main_QtPlot"
   ]
  },
  {
   "cell_type": "code",
   "execution_count": null,
   "metadata": {},
   "outputs": [],
   "source": [
    "dset.attrs['tuid']"
   ]
  },
  {
   "cell_type": "code",
   "execution_count": null,
   "metadata": {},
   "outputs": [],
   "source": [
    "dset\n"
   ]
  },
  {
   "cell_type": "markdown",
   "metadata": {},
   "source": [
    "We can play with some live plotting options to see how the MC behaves when changing the update interval. "
   ]
  },
  {
   "cell_type": "code",
   "execution_count": null,
   "metadata": {},
   "outputs": [],
   "source": [
    "# By default the MC updates the datafile and live plot every 0.1 seconds to reduce overhead. \n",
    "# the total overhead is ~0.05s per update\n",
    "MC.update_interval(0.01) # Setting it even to 0.01 makes a dramatic difference, try it out!"
   ]
  },
  {
   "cell_type": "code",
   "execution_count": null,
   "metadata": {},
   "outputs": [],
   "source": [
    "MC.set_setpars(Settable(t))\n",
    "MC.set_setpoints(np.linspace(0, 50, 1000))\n",
    "MC.set_getpars(Gettable(sig))\n",
    "dset = MC.run('Many points live plot test')"
   ]
  },
  {
   "cell_type": "code",
   "execution_count": null,
   "metadata": {},
   "outputs": [],
   "source": [
    "noise_level(0) #let's disable noise from here on to get prettier figures"
   ]
  },
  {
   "cell_type": "markdown",
   "metadata": {},
   "source": [
    "### Analyzing the experiment\n",
    "\n",
    "#### Loading the data\n",
    "The `Dataset` contains all the information required to perform basic analysis of the experiment and information on where the data is stored. \n",
    "We can alternatively load the dataset from disk based on it's `tuid`, a timestamp-based unique identifier. If you do not know the tuid of the experiment you can find the latest tuid containing a certain string in the experiment name using `quantify.data_handling.get_latest_tuid`. See the data storage documentation for more details on the folder structure and files contained in the data directory. \n",
    "\n"
   ]
  },
  {
   "cell_type": "code",
   "execution_count": null,
   "metadata": {},
   "outputs": [],
   "source": [
    "from quantify.data.data_handling import load_dataset, get_latest_tuid\n",
    "\n",
    "# here we look for the latest datafile in the datadirectory named \"Cosine test\"\n",
    "# note that this is not he last dataset but one dataset earlier\n",
    "tuid = get_latest_tuid('Cosine test') \n",
    "print('tuid: {}'.format(tuid))\n",
    "dset = load_dataset(tuid)\n",
    "\n",
    "dset"
   ]
  },
  {
   "cell_type": "markdown",
   "metadata": {},
   "source": [
    "#### Performing fits and extracting quantities of interest\n",
    "\n",
    "We have used a cosine function \"mock\" an experiment, the goal of the experiment is to find the underlying parameters. \n",
    "We extract these parameters by performing a fit to a model, which coincidently, is based on the same cosine function. \n",
    "For fitting we recommend using the lmfit library.  See https://lmfit.github.io/lmfit-py/model.html on how to fit data to a custom model."
   ]
  },
  {
   "cell_type": "code",
   "execution_count": null,
   "metadata": {},
   "outputs": [],
   "source": [
    "import lmfit\n",
    "# we create a model based on our function\n",
    "mod = lmfit.Model(cos_func)\n",
    "# and specify initial guesses for each parameter\n",
    "mod.set_param_hint('amplitude', value=.8, vary=True)\n",
    "mod.set_param_hint('frequency', value=.4)\n",
    "mod.set_param_hint('phase', value=0, vary=False)\n",
    "mod.set_param_hint('offset', value=0, vary=False)\n",
    "params = mod.make_params()\n",
    "# and here we perform the fit. \n",
    "fit_res = mod.fit(dset['y0'].values, t=dset['x0'].values, params=params)\n",
    "\n",
    "\n",
    "# It is possible to get a quick visualization of our fit using a build-in method of lmfit\n",
    "fit_res.plot_fit(show_init=True)"
   ]
  },
  {
   "cell_type": "code",
   "execution_count": null,
   "metadata": {},
   "outputs": [],
   "source": [
    "fit_res.params"
   ]
  },
  {
   "cell_type": "code",
   "execution_count": null,
   "metadata": {},
   "outputs": [],
   "source": [
    "# And we can print an overview of the fitting results\n",
    "print(fit_res.fit_report())"
   ]
  },
  {
   "cell_type": "markdown",
   "metadata": {},
   "source": [
    "#### Plotting and saving the results of the analysis"
   ]
  },
  {
   "cell_type": "code",
   "execution_count": null,
   "metadata": {},
   "outputs": [],
   "source": [
    "# We include some visualization utilities in quantify\n",
    "from quantify.visualization.SI_utilities import set_xlabel, set_ylabel"
   ]
  },
  {
   "cell_type": "code",
   "execution_count": null,
   "metadata": {},
   "outputs": [],
   "source": [
    "f, ax =plt.subplots()\n",
    "\n",
    "ax.plot(dset['x0'], dset['y0'], marker='o', label='Data')\n",
    "x_fit = np.linspace(dset['x0'][0], dset['x0'][-1], 1000)\n",
    "y_fit = cos_func(t=x_fit, **fit_res.best_values)\n",
    "ax.plot(x_fit, y_fit, label='Fit')\n",
    "ax.legend()\n",
    "\n",
    "set_xlabel(ax, dset['x0'].attrs['long_name'], dset['x0'].attrs['unit'])\n",
    "set_ylabel(ax, dset['y0'].attrs['long_name'], dset['y0'].attrs['unit'])\n",
    "ax.set_title('{}\\n{}'.format(tuid, 'Cosine test'))"
   ]
  },
  {
   "cell_type": "markdown",
   "metadata": {},
   "source": [
    "Now that we have analyzed our data and created a figure, we probably want to store the results of our analysis. \n",
    "We will want to store the figure and the results of the fit in the `experiment folder`. \n"
   ]
  },
  {
   "cell_type": "code",
   "execution_count": null,
   "metadata": {},
   "outputs": [],
   "source": [
    "from os.path import join\n",
    "from quantify.data.data_handling import create_exp_folder\n",
    "exp_folder = create_exp_folder(dset.tuid, dset.name)"
   ]
  },
  {
   "cell_type": "code",
   "execution_count": null,
   "metadata": {},
   "outputs": [],
   "source": [
    "lmfit.model.save_modelresult(fit_res, join(exp_folder, 'fit_res.json'))\n",
    "f.savefig(join(exp_folder, 'Cosine fit.png'), dpi=300, bbox_inches='tight')"
   ]
  },
  {
   "cell_type": "markdown",
   "metadata": {},
   "source": [
    "## A 2D soft(ware) controlled loop\n",
    "\n",
    "It is often desired to measure heatmaps (2D grids) of some parameter. \n",
    "This can be done by specifying two set parameters. \n",
    "The setpoints of the grid can be specified in two ways. "
   ]
  },
  {
   "cell_type": "markdown",
   "metadata": {},
   "source": [
    "### Method 1, a quick grid. "
   ]
  },
  {
   "cell_type": "code",
   "execution_count": null,
   "metadata": {},
   "outputs": [],
   "source": [
    "MC.update_interval(.1)"
   ]
  },
  {
   "cell_type": "code",
   "execution_count": null,
   "metadata": {},
   "outputs": [],
   "source": [
    "times = np.linspace(0, 5, 500)\n",
    "amps = np.linspace(-1, 1, 31)\n",
    "\n",
    "MC.set_setpars([Settable(t), Settable(amp)])\n",
    "MC.set_setpoints_grid([times, amps])\n",
    "MC.set_getpars(Gettable(sig))\n",
    "dset = MC.run('2D Cosine test')"
   ]
  },
  {
   "cell_type": "code",
   "execution_count": null,
   "metadata": {},
   "outputs": [],
   "source": [
    "plotmon.main_QtPlot"
   ]
  },
  {
   "cell_type": "code",
   "execution_count": null,
   "metadata": {},
   "outputs": [],
   "source": [
    "plotmon.secondary_QtPlot"
   ]
  },
  {
   "cell_type": "markdown",
   "metadata": {},
   "source": [
    "### Method 2, custom tuples in 2D \n",
    "\n",
    "N.B. it is also possible to do this for higher dimensional loops"
   ]
  },
  {
   "cell_type": "code",
   "execution_count": null,
   "metadata": {},
   "outputs": [],
   "source": [
    "r = np.linspace(0, 1.5, 2000)\n",
    "dt = np.linspace(0, 1, 2000)\n",
    "\n",
    "f = 10\n",
    "\n",
    "theta = np.cos(2*np.pi*f*dt)\n",
    "def polar_coords(r, theta):\n",
    "\n",
    "    x = r*np.cos(2*np.pi*theta)\n",
    "    y = r*np.sin(2*np.pi*theta)\n",
    "    return x, y \n",
    "\n",
    "x,y = polar_coords(r, theta)\n",
    "setpoints = np.column_stack([x,y])"
   ]
  },
  {
   "cell_type": "code",
   "execution_count": null,
   "metadata": {},
   "outputs": [],
   "source": [
    "acq_delay(0.001)\n",
    "MC.update_interval(0.5)"
   ]
  },
  {
   "cell_type": "code",
   "execution_count": null,
   "metadata": {},
   "outputs": [],
   "source": [
    "MC.set_setpars([t, amp])\n",
    "MC.set_setpoints(setpoints)\n",
    "MC.set_getpars(sig)\n",
    "dset = MC.run('2D radial setpoints')"
   ]
  },
  {
   "cell_type": "code",
   "execution_count": null,
   "metadata": {},
   "outputs": [],
   "source": [
    "plotmon.main_QtPlot"
   ]
  },
  {
   "cell_type": "code",
   "execution_count": null,
   "metadata": {},
   "outputs": [],
   "source": [
    "plotmon.secondary_QtPlot"
   ]
  },
  {
   "cell_type": "markdown",
   "metadata": {},
   "source": [
    "### Below is for testing"
   ]
  },
  {
   "cell_type": "code",
   "execution_count": null,
   "metadata": {},
   "outputs": [],
   "source": [
    "# This snippet exists to quickly reload and test the live plotting. \n",
    "plotmon.close()\n",
    "from importlib import reload\n",
    "reload(pqm)\n",
    "plotmon = pqm.PlotMonitor_pyqt('plotmon')"
   ]
  },
  {
   "cell_type": "code",
   "execution_count": null,
   "metadata": {},
   "outputs": [],
   "source": []
  }
 ],
 "metadata": {
  "kernelspec": {
   "display_name": "Python 3",
   "language": "python",
   "name": "python3"
  },
  "language_info": {
   "codemirror_mode": {
    "name": "ipython",
    "version": 3
   },
   "file_extension": ".py",
   "mimetype": "text/x-python",
   "name": "python",
   "nbconvert_exporter": "python",
   "pygments_lexer": "ipython3",
   "version": "3.8.0"
  }
 },
 "nbformat": 4,
 "nbformat_minor": 4
}
